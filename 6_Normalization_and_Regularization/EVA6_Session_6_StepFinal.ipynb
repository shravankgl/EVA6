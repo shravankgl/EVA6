{
  "nbformat": 4,
  "nbformat_minor": 0,
  "metadata": {
    "colab": {
      "name": "Single_EVA6_Session_6_StepFinal.ipynb",
      "provenance": [],
      "collapsed_sections": []
    },
    "kernelspec": {
      "name": "python3",
      "display_name": "Python 3"
    },
    "accelerator": "GPU"
  },
  "cells": [
    {
      "cell_type": "code",
      "metadata": {
        "id": "0m2JWFliFfKT",
        "colab": {
          "base_uri": "https://localhost:8080/"
        },
        "outputId": "f8efc8aa-dd46-4973-eab6-eb9c2b178eef"
      },
      "source": [
        "from __future__ import print_function\n",
        "import torch\n",
        "import torch.nn as nn\n",
        "import torch.nn.functional as F\n",
        "import torch.optim as optim\n",
        "from torchvision import datasets, transforms\n",
        "\n",
        "!pip install torchsummary\n",
        "from torchsummary import summary\n",
        "\n",
        "from eva.model import Net\n",
        "from eva.train import train\n",
        "from eva.test import test\n",
        "from eva.dataloader import getMnistDataLoader\n",
        "from eva.eval import fit\n"
      ],
      "execution_count": 1,
      "outputs": [
        {
          "output_type": "stream",
          "text": [
            "Requirement already satisfied: torchsummary in /usr/local/lib/python3.7/dist-packages (1.5.1)\n"
          ],
          "name": "stdout"
        }
      ]
    },
    {
      "cell_type": "code",
      "metadata": {
        "id": "xdydjYTZFyi3"
      },
      "source": [
        "use_cuda = torch.cuda.is_available()\n",
        "device = torch.device(\"cuda\" if use_cuda else \"cpu\")"
      ],
      "execution_count": 2,
      "outputs": []
    },
    {
      "cell_type": "code",
      "metadata": {
        "id": "DqTWLaM5GHgH"
      },
      "source": [
        "torch.manual_seed(1)\n",
        "batch_size = 128\n",
        "kwargs = {'num_workers': 1, 'pin_memory': True} if use_cuda else {}\n",
        "\n",
        "train_loader, test_loader = getMnistDataLoader(batch_size,**kwargs)\n"
      ],
      "execution_count": 3,
      "outputs": []
    },
    {
      "cell_type": "code",
      "metadata": {
        "colab": {
          "base_uri": "https://localhost:8080/"
        },
        "id": "oO4uNTqT8o_k",
        "outputId": "d9ac3ead-4df6-4f80-ecf1-4f75d043793d"
      },
      "source": [
        "kwargs = {}\n",
        "\n",
        "vanilla_model = Net(**kwargs).to(device)\n",
        "summary(vanilla_model, input_size=(1, 28, 28))"
      ],
      "execution_count": 9,
      "outputs": [
        {
          "output_type": "stream",
          "text": [
            "----------------------------------------------------------------\n",
            "        Layer (type)               Output Shape         Param #\n",
            "================================================================\n",
            "            Conv2d-1           [-1, 10, 26, 26]              90\n",
            "              ReLU-2           [-1, 10, 26, 26]               0\n",
            "            Conv2d-3           [-1, 10, 24, 24]             900\n",
            "              ReLU-4           [-1, 10, 24, 24]               0\n",
            "            Conv2d-5           [-1, 10, 22, 22]             900\n",
            "              ReLU-6           [-1, 10, 22, 22]               0\n",
            "         AvgPool2d-7           [-1, 10, 11, 11]               0\n",
            "            Conv2d-8             [-1, 10, 9, 9]             900\n",
            "              ReLU-9             [-1, 10, 9, 9]               0\n",
            "           Conv2d-10             [-1, 10, 7, 7]             900\n",
            "             ReLU-11             [-1, 10, 7, 7]               0\n",
            "        AvgPool2d-12             [-1, 10, 3, 3]               0\n",
            "           Linear-13                   [-1, 10]             910\n",
            "================================================================\n",
            "Total params: 4,600\n",
            "Trainable params: 4,600\n",
            "Non-trainable params: 0\n",
            "----------------------------------------------------------------\n",
            "Input size (MB): 0.00\n",
            "Forward/backward pass size (MB): 0.29\n",
            "Params size (MB): 0.02\n",
            "Estimated Total Size (MB): 0.32\n",
            "----------------------------------------------------------------\n"
          ],
          "name": "stdout"
        }
      ]
    },
    {
      "cell_type": "code",
      "metadata": {
        "colab": {
          "base_uri": "https://localhost:8080/"
        },
        "id": "Ga68baDhR3wC",
        "outputId": "13f27e65-4c3f-4057-8d1e-f1518d7e7512"
      },
      "source": [
        "kwargs = {\"normalization\" : \"BN\"}\n",
        "\n",
        "bn_model = Net(**kwargs).to(device)\n",
        "summary(bn_model, input_size=(1, 28, 28))"
      ],
      "execution_count": 10,
      "outputs": [
        {
          "output_type": "stream",
          "text": [
            "----------------------------------------------------------------\n",
            "        Layer (type)               Output Shape         Param #\n",
            "================================================================\n",
            "            Conv2d-1           [-1, 10, 26, 26]              90\n",
            "              ReLU-2           [-1, 10, 26, 26]               0\n",
            "       BatchNorm2d-3           [-1, 10, 26, 26]              20\n",
            "            Conv2d-4           [-1, 10, 24, 24]             900\n",
            "              ReLU-5           [-1, 10, 24, 24]               0\n",
            "       BatchNorm2d-6           [-1, 10, 24, 24]              20\n",
            "            Conv2d-7           [-1, 10, 22, 22]             900\n",
            "              ReLU-8           [-1, 10, 22, 22]               0\n",
            "       BatchNorm2d-9           [-1, 10, 22, 22]              20\n",
            "        AvgPool2d-10           [-1, 10, 11, 11]               0\n",
            "           Conv2d-11             [-1, 10, 9, 9]             900\n",
            "             ReLU-12             [-1, 10, 9, 9]               0\n",
            "      BatchNorm2d-13             [-1, 10, 9, 9]              20\n",
            "           Conv2d-14             [-1, 10, 7, 7]             900\n",
            "             ReLU-15             [-1, 10, 7, 7]               0\n",
            "      BatchNorm2d-16             [-1, 10, 7, 7]              20\n",
            "        AvgPool2d-17             [-1, 10, 3, 3]               0\n",
            "           Linear-18                   [-1, 10]             910\n",
            "================================================================\n",
            "Total params: 4,700\n",
            "Trainable params: 4,700\n",
            "Non-trainable params: 0\n",
            "----------------------------------------------------------------\n",
            "Input size (MB): 0.00\n",
            "Forward/backward pass size (MB): 0.44\n",
            "Params size (MB): 0.02\n",
            "Estimated Total Size (MB): 0.46\n",
            "----------------------------------------------------------------\n"
          ],
          "name": "stdout"
        }
      ]
    },
    {
      "cell_type": "code",
      "metadata": {
        "colab": {
          "base_uri": "https://localhost:8080/"
        },
        "id": "lZMgzVrCS-Xu",
        "outputId": "e0fb1f9b-6439-4734-f768-109ba2aee12e"
      },
      "source": [
        "kwargs = {\"normalization\" : \"LN\"}\n",
        "\n",
        "ln_model = Net(**kwargs).to(device)\n",
        "summary(ln_model, input_size=(1, 28, 28))"
      ],
      "execution_count": 11,
      "outputs": [
        {
          "output_type": "stream",
          "text": [
            "----------------------------------------------------------------\n",
            "        Layer (type)               Output Shape         Param #\n",
            "================================================================\n",
            "            Conv2d-1           [-1, 10, 26, 26]              90\n",
            "              ReLU-2           [-1, 10, 26, 26]               0\n",
            "         GroupNorm-3           [-1, 10, 26, 26]              20\n",
            "            Conv2d-4           [-1, 10, 24, 24]             900\n",
            "              ReLU-5           [-1, 10, 24, 24]               0\n",
            "         GroupNorm-6           [-1, 10, 24, 24]              20\n",
            "            Conv2d-7           [-1, 10, 22, 22]             900\n",
            "              ReLU-8           [-1, 10, 22, 22]               0\n",
            "         GroupNorm-9           [-1, 10, 22, 22]              20\n",
            "        AvgPool2d-10           [-1, 10, 11, 11]               0\n",
            "           Conv2d-11             [-1, 10, 9, 9]             900\n",
            "             ReLU-12             [-1, 10, 9, 9]               0\n",
            "        GroupNorm-13             [-1, 10, 9, 9]              20\n",
            "           Conv2d-14             [-1, 10, 7, 7]             900\n",
            "             ReLU-15             [-1, 10, 7, 7]               0\n",
            "        GroupNorm-16             [-1, 10, 7, 7]              20\n",
            "        AvgPool2d-17             [-1, 10, 3, 3]               0\n",
            "           Linear-18                   [-1, 10]             910\n",
            "================================================================\n",
            "Total params: 4,700\n",
            "Trainable params: 4,700\n",
            "Non-trainable params: 0\n",
            "----------------------------------------------------------------\n",
            "Input size (MB): 0.00\n",
            "Forward/backward pass size (MB): 0.44\n",
            "Params size (MB): 0.02\n",
            "Estimated Total Size (MB): 0.46\n",
            "----------------------------------------------------------------\n"
          ],
          "name": "stdout"
        }
      ]
    },
    {
      "cell_type": "code",
      "metadata": {
        "colab": {
          "base_uri": "https://localhost:8080/"
        },
        "id": "PG9VOhTKS-jX",
        "outputId": "15ad4f1b-7765-4167-a4da-f65dcb3219e5"
      },
      "source": [
        "kwargs = {\"normalization\" : \"GN\"}\n",
        "\n",
        "gn_model = Net(**kwargs).to(device)\n",
        "summary(gn_model, input_size=(1, 28, 28))"
      ],
      "execution_count": 12,
      "outputs": [
        {
          "output_type": "stream",
          "text": [
            "----------------------------------------------------------------\n",
            "        Layer (type)               Output Shape         Param #\n",
            "================================================================\n",
            "            Conv2d-1           [-1, 10, 26, 26]              90\n",
            "              ReLU-2           [-1, 10, 26, 26]               0\n",
            "         GroupNorm-3           [-1, 10, 26, 26]              20\n",
            "            Conv2d-4           [-1, 10, 24, 24]             900\n",
            "              ReLU-5           [-1, 10, 24, 24]               0\n",
            "         GroupNorm-6           [-1, 10, 24, 24]              20\n",
            "            Conv2d-7           [-1, 10, 22, 22]             900\n",
            "              ReLU-8           [-1, 10, 22, 22]               0\n",
            "         GroupNorm-9           [-1, 10, 22, 22]              20\n",
            "        AvgPool2d-10           [-1, 10, 11, 11]               0\n",
            "           Conv2d-11             [-1, 10, 9, 9]             900\n",
            "             ReLU-12             [-1, 10, 9, 9]               0\n",
            "        GroupNorm-13             [-1, 10, 9, 9]              20\n",
            "           Conv2d-14             [-1, 10, 7, 7]             900\n",
            "             ReLU-15             [-1, 10, 7, 7]               0\n",
            "        GroupNorm-16             [-1, 10, 7, 7]              20\n",
            "        AvgPool2d-17             [-1, 10, 3, 3]               0\n",
            "           Linear-18                   [-1, 10]             910\n",
            "================================================================\n",
            "Total params: 4,700\n",
            "Trainable params: 4,700\n",
            "Non-trainable params: 0\n",
            "----------------------------------------------------------------\n",
            "Input size (MB): 0.00\n",
            "Forward/backward pass size (MB): 0.44\n",
            "Params size (MB): 0.02\n",
            "Estimated Total Size (MB): 0.46\n",
            "----------------------------------------------------------------\n"
          ],
          "name": "stdout"
        }
      ]
    },
    {
      "cell_type": "code",
      "metadata": {
        "id": "MMjKwtOhYzIC"
      },
      "source": [
        "epochs = 25\n",
        "lr = 0.01\n",
        "momentum=0.9\n",
        "optimizer=optim.SGD\n",
        "weight_decay = 0\n",
        "lambda_l1 = None"
      ],
      "execution_count": 13,
      "outputs": []
    },
    {
      "cell_type": "code",
      "metadata": {
        "id": "2k4_vUZrUkeW"
      },
      "source": [
        "kwargs = {\n",
        "    'device':device,\n",
        "    'epochs':epochs,\n",
        "    'train':train,\n",
        "    'test':test,\n",
        "    'train_loader':train_loader,\n",
        "    'test_loader':test_loader,\n",
        "    'optimizer':optimizer,\n",
        "    'learning_rate':lr,\n",
        "    'momentum':momentum,\n",
        "    'weight_decay': weight_decay,\n",
        "    'lambda_l1': lambda_l1\n",
        "            }\n",
        "\n",
        "# print(\"Vanilla Model\")\n",
        "# vanilla_output = fit(vanilla_model, **kwargs)\n",
        "\n",
        "# torch.manual_seed(1)\n",
        "\n",
        "# print(\"BatchNorm Model\")\n",
        "# bn_output = fit(bn_model,  **kwargs)\n",
        "\n",
        "# torch.manual_seed(1)\n",
        "\n",
        "# print(\"LayerNorm Model\")\n",
        "# ln_output = fit(ln_model,  **kwargs)\n",
        "\n",
        "# torch.manual_seed(1)\n",
        "\n",
        "# print(\"GroupNorm Model\")\n",
        "# gn_output = fit(gn_model,  **kwargs)\n",
        "\n",
        "# torch.manual_seed(1)\n",
        "\n",
        "# print(\"BatchNorm Model + L1 + L2\")\n",
        "# kwargs['weight_decay'] = 1e-5\n",
        "# kwargs['lambda_l1'] = 0.0001\n",
        "# bn_l1_l2_output = fit(bn_model,  **kwargs)\n",
        "\n",
        "# torch.manual_seed(1)\n",
        "\n",
        "# print(\"LayerNorm Model + L2\")\n",
        "# kwargs['weight_decay'] = 1e-5\n",
        "# kwargs['lambda_l1'] = None\n",
        "# ln_l2_output = fit(ln_model,  **kwargs)\n",
        "\n",
        "# torch.manual_seed(1)\n",
        "\n",
        "# print(\"GroupNorm Model + L1\")\n",
        "# kwargs['weight_decay'] = 0\n",
        "# kwargs['lambda_l1'] = 0.0001\n",
        "# gn_l1_output = fit(gn_model,  **kwargs)\n"
      ],
      "execution_count": 14,
      "outputs": []
    },
    {
      "cell_type": "code",
      "metadata": {
        "id": "edQjvKy88vx1"
      },
      "source": [
        "#pip install hypothesis"
      ],
      "execution_count": 15,
      "outputs": []
    },
    {
      "cell_type": "code",
      "metadata": {
        "colab": {
          "base_uri": "https://localhost:8080/",
          "height": 1000
        },
        "id": "9HL2fQzYWoeh",
        "outputId": "a9c2f135-80d6-4490-df5a-30a2a5509a9e"
      },
      "source": [
        "torch.manual_seed(1)\n",
        "\n",
        "print(\"BatchNorm Model + L1 + L2\")\n",
        "kwargs['weight_decay'] = 1e-5\n",
        "kwargs['lambda_l1'] = 0.0001\n",
        "bn_l1_l2_output = fit(bn_model,  **kwargs)\n",
        "plotWrongPredictions(getWrongPredictions(bn_model, device, test_loader))\n",
        "\n",
        "torch.manual_seed(1)\n",
        "\n",
        "print(\"LayerNorm Model + L2\")\n",
        "kwargs['weight_decay'] = 1e-5\n",
        "kwargs['lambda_l1'] = None\n",
        "ln_l2_output = fit(ln_model,  **kwargs)\n",
        "plotWrongPredictions(getWrongPredictions(ln_model, device, test_loader))\n",
        "\n",
        "torch.manual_seed(1)\n",
        "\n",
        "print(\"GroupNorm Model + L1\")\n",
        "kwargs['weight_decay'] = 0\n",
        "kwargs['lambda_l1'] = 0.0001\n",
        "gn_l1_output = fit(gn_model,  **kwargs)\n",
        "plotWrongPredictions(getWrongPredictions(gn_model, device, test_loader))"
      ],
      "execution_count": 16,
      "outputs": [
        {
          "output_type": "stream",
          "text": [
            "\r  0%|          | 0/469 [00:00<?, ?it/s]"
          ],
          "name": "stderr"
        },
        {
          "output_type": "stream",
          "text": [
            "BatchNorm Model + L1 + L2\n",
            "Epoch 1\n"
          ],
          "name": "stdout"
        },
        {
          "output_type": "stream",
          "text": [
            "loss=0.14027559757232666 batch_id=468: 100%|██████████| 469/469 [00:13<00:00, 35.42it/s]"
          ],
          "name": "stderr"
        },
        {
          "output_type": "stream",
          "text": [
            "\n",
            "Train set: Average loss: 0.0020, Accuracy: 56235/60000 (93.72%)\n",
            "\n"
          ],
          "name": "stdout"
        },
        {
          "output_type": "stream",
          "text": [
            "\n",
            "  0%|          | 0/469 [00:00<?, ?it/s]"
          ],
          "name": "stderr"
        },
        {
          "output_type": "stream",
          "text": [
            "\n",
            "Test set: Average loss: 0.0600, Accuracy: 9826/10000 (98.26%)\n",
            "\n",
            "Epoch 2\n"
          ],
          "name": "stdout"
        },
        {
          "output_type": "stream",
          "text": [
            "loss=0.05777115374803543 batch_id=468: 100%|██████████| 469/469 [00:13<00:00, 35.92it/s]"
          ],
          "name": "stderr"
        },
        {
          "output_type": "stream",
          "text": [
            "\n",
            "Train set: Average loss: 0.0008, Accuracy: 58964/60000 (98.27%)\n",
            "\n"
          ],
          "name": "stdout"
        },
        {
          "output_type": "stream",
          "text": [
            "\n",
            "  0%|          | 0/469 [00:00<?, ?it/s]"
          ],
          "name": "stderr"
        },
        {
          "output_type": "stream",
          "text": [
            "\n",
            "Test set: Average loss: 0.0454, Accuracy: 9857/10000 (98.57%)\n",
            "\n",
            "Epoch 3\n"
          ],
          "name": "stdout"
        },
        {
          "output_type": "stream",
          "text": [
            "loss=0.08409267663955688 batch_id=468: 100%|██████████| 469/469 [00:12<00:00, 36.20it/s]"
          ],
          "name": "stderr"
        },
        {
          "output_type": "stream",
          "text": [
            "\n",
            "Train set: Average loss: 0.0007, Accuracy: 59169/60000 (98.61%)\n",
            "\n"
          ],
          "name": "stdout"
        },
        {
          "output_type": "stream",
          "text": [
            "\n",
            "  0%|          | 0/469 [00:00<?, ?it/s]"
          ],
          "name": "stderr"
        },
        {
          "output_type": "stream",
          "text": [
            "\n",
            "Test set: Average loss: 0.0478, Accuracy: 9853/10000 (98.53%)\n",
            "\n",
            "Epoch 4\n"
          ],
          "name": "stdout"
        },
        {
          "output_type": "stream",
          "text": [
            "loss=0.08929988741874695 batch_id=468: 100%|██████████| 469/469 [00:13<00:00, 35.77it/s]"
          ],
          "name": "stderr"
        },
        {
          "output_type": "stream",
          "text": [
            "\n",
            "Train set: Average loss: 0.0006, Accuracy: 59254/60000 (98.76%)\n",
            "\n"
          ],
          "name": "stdout"
        },
        {
          "output_type": "stream",
          "text": [
            "\n",
            "  0%|          | 0/469 [00:00<?, ?it/s]"
          ],
          "name": "stderr"
        },
        {
          "output_type": "stream",
          "text": [
            "\n",
            "Test set: Average loss: 0.0385, Accuracy: 9874/10000 (98.74%)\n",
            "\n",
            "Epoch 5\n"
          ],
          "name": "stdout"
        },
        {
          "output_type": "stream",
          "text": [
            "loss=0.04483330622315407 batch_id=468: 100%|██████████| 469/469 [00:13<00:00, 35.50it/s]"
          ],
          "name": "stderr"
        },
        {
          "output_type": "stream",
          "text": [
            "\n",
            "Train set: Average loss: 0.0006, Accuracy: 59338/60000 (98.90%)\n",
            "\n"
          ],
          "name": "stdout"
        },
        {
          "output_type": "stream",
          "text": [
            "\n",
            "  0%|          | 0/469 [00:00<?, ?it/s]"
          ],
          "name": "stderr"
        },
        {
          "output_type": "stream",
          "text": [
            "\n",
            "Test set: Average loss: 0.0353, Accuracy: 9888/10000 (98.88%)\n",
            "\n",
            "Epoch 6\n"
          ],
          "name": "stdout"
        },
        {
          "output_type": "stream",
          "text": [
            "loss=0.0604226291179657 batch_id=468: 100%|██████████| 469/469 [00:12<00:00, 36.31it/s]"
          ],
          "name": "stderr"
        },
        {
          "output_type": "stream",
          "text": [
            "\n",
            "Train set: Average loss: 0.0006, Accuracy: 59401/60000 (99.00%)\n",
            "\n"
          ],
          "name": "stdout"
        },
        {
          "output_type": "stream",
          "text": [
            "\n",
            "  0%|          | 0/469 [00:00<?, ?it/s]"
          ],
          "name": "stderr"
        },
        {
          "output_type": "stream",
          "text": [
            "\n",
            "Test set: Average loss: 0.0313, Accuracy: 9894/10000 (98.94%)\n",
            "\n",
            "Epoch 7\n"
          ],
          "name": "stdout"
        },
        {
          "output_type": "stream",
          "text": [
            "loss=0.046893008053302765 batch_id=468: 100%|██████████| 469/469 [00:12<00:00, 36.50it/s]"
          ],
          "name": "stderr"
        },
        {
          "output_type": "stream",
          "text": [
            "\n",
            "Train set: Average loss: 0.0005, Accuracy: 59439/60000 (99.06%)\n",
            "\n"
          ],
          "name": "stdout"
        },
        {
          "output_type": "stream",
          "text": [
            "\n",
            "  0%|          | 0/469 [00:00<?, ?it/s]"
          ],
          "name": "stderr"
        },
        {
          "output_type": "stream",
          "text": [
            "\n",
            "Test set: Average loss: 0.0277, Accuracy: 9915/10000 (99.15%)\n",
            "\n",
            "Epoch 8\n"
          ],
          "name": "stdout"
        },
        {
          "output_type": "stream",
          "text": [
            "loss=0.05429592356085777 batch_id=468: 100%|██████████| 469/469 [00:12<00:00, 36.53it/s]\n"
          ],
          "name": "stderr"
        },
        {
          "output_type": "stream",
          "text": [
            "\n",
            "Train set: Average loss: 0.0005, Accuracy: 59453/60000 (99.09%)\n",
            "\n"
          ],
          "name": "stdout"
        },
        {
          "output_type": "stream",
          "text": [
            "\r  0%|          | 0/469 [00:00<?, ?it/s]"
          ],
          "name": "stderr"
        },
        {
          "output_type": "stream",
          "text": [
            "\n",
            "Test set: Average loss: 0.0305, Accuracy: 9903/10000 (99.03%)\n",
            "\n",
            "Epoch 9\n"
          ],
          "name": "stdout"
        },
        {
          "output_type": "stream",
          "text": [
            "loss=0.05225677788257599 batch_id=468: 100%|██████████| 469/469 [00:12<00:00, 36.21it/s]"
          ],
          "name": "stderr"
        },
        {
          "output_type": "stream",
          "text": [
            "\n",
            "Train set: Average loss: 0.0005, Accuracy: 59475/60000 (99.12%)\n",
            "\n"
          ],
          "name": "stdout"
        },
        {
          "output_type": "stream",
          "text": [
            "\n",
            "  0%|          | 0/469 [00:00<?, ?it/s]"
          ],
          "name": "stderr"
        },
        {
          "output_type": "stream",
          "text": [
            "\n",
            "Test set: Average loss: 0.0293, Accuracy: 9893/10000 (98.93%)\n",
            "\n",
            "Epoch 10\n"
          ],
          "name": "stdout"
        },
        {
          "output_type": "stream",
          "text": [
            "loss=0.04060640186071396 batch_id=468: 100%|██████████| 469/469 [00:12<00:00, 36.80it/s]"
          ],
          "name": "stderr"
        },
        {
          "output_type": "stream",
          "text": [
            "\n",
            "Train set: Average loss: 0.0005, Accuracy: 59487/60000 (99.14%)\n",
            "\n"
          ],
          "name": "stdout"
        },
        {
          "output_type": "stream",
          "text": [
            "\n",
            "  0%|          | 0/469 [00:00<?, ?it/s]"
          ],
          "name": "stderr"
        },
        {
          "output_type": "stream",
          "text": [
            "\n",
            "Test set: Average loss: 0.0306, Accuracy: 9903/10000 (99.03%)\n",
            "\n",
            "Epoch 11\n"
          ],
          "name": "stdout"
        },
        {
          "output_type": "stream",
          "text": [
            "loss=0.046359993517398834 batch_id=468: 100%|██████████| 469/469 [00:12<00:00, 36.53it/s]"
          ],
          "name": "stderr"
        },
        {
          "output_type": "stream",
          "text": [
            "\n",
            "Train set: Average loss: 0.0005, Accuracy: 59496/60000 (99.16%)\n",
            "\n"
          ],
          "name": "stdout"
        },
        {
          "output_type": "stream",
          "text": [
            "\n",
            "  0%|          | 0/469 [00:00<?, ?it/s]"
          ],
          "name": "stderr"
        },
        {
          "output_type": "stream",
          "text": [
            "\n",
            "Test set: Average loss: 0.0282, Accuracy: 9908/10000 (99.08%)\n",
            "\n",
            "Epoch 12\n"
          ],
          "name": "stdout"
        },
        {
          "output_type": "stream",
          "text": [
            "loss=0.048201996833086014 batch_id=468: 100%|██████████| 469/469 [00:12<00:00, 36.14it/s]"
          ],
          "name": "stderr"
        },
        {
          "output_type": "stream",
          "text": [
            "\n",
            "Train set: Average loss: 0.0005, Accuracy: 59532/60000 (99.22%)\n",
            "\n"
          ],
          "name": "stdout"
        },
        {
          "output_type": "stream",
          "text": [
            "\n",
            "  0%|          | 0/469 [00:00<?, ?it/s]"
          ],
          "name": "stderr"
        },
        {
          "output_type": "stream",
          "text": [
            "\n",
            "Test set: Average loss: 0.0253, Accuracy: 9922/10000 (99.22%)\n",
            "\n",
            "Epoch 13\n"
          ],
          "name": "stdout"
        },
        {
          "output_type": "stream",
          "text": [
            "loss=0.048688843846321106 batch_id=468: 100%|██████████| 469/469 [00:12<00:00, 36.25it/s]"
          ],
          "name": "stderr"
        },
        {
          "output_type": "stream",
          "text": [
            "\n",
            "Train set: Average loss: 0.0005, Accuracy: 59550/60000 (99.25%)\n",
            "\n"
          ],
          "name": "stdout"
        },
        {
          "output_type": "stream",
          "text": [
            "\n",
            "  0%|          | 0/469 [00:00<?, ?it/s]"
          ],
          "name": "stderr"
        },
        {
          "output_type": "stream",
          "text": [
            "\n",
            "Test set: Average loss: 0.0252, Accuracy: 9922/10000 (99.22%)\n",
            "\n",
            "Epoch 14\n"
          ],
          "name": "stdout"
        },
        {
          "output_type": "stream",
          "text": [
            "loss=0.03816051781177521 batch_id=468: 100%|██████████| 469/469 [00:12<00:00, 36.63it/s]"
          ],
          "name": "stderr"
        },
        {
          "output_type": "stream",
          "text": [
            "\n",
            "Train set: Average loss: 0.0005, Accuracy: 59575/60000 (99.29%)\n",
            "\n"
          ],
          "name": "stdout"
        },
        {
          "output_type": "stream",
          "text": [
            "\n",
            "  0%|          | 0/469 [00:00<?, ?it/s]"
          ],
          "name": "stderr"
        },
        {
          "output_type": "stream",
          "text": [
            "\n",
            "Test set: Average loss: 0.0299, Accuracy: 9899/10000 (98.99%)\n",
            "\n",
            "Epoch 15\n"
          ],
          "name": "stdout"
        },
        {
          "output_type": "stream",
          "text": [
            "loss=0.08416303992271423 batch_id=468: 100%|██████████| 469/469 [00:12<00:00, 36.73it/s]"
          ],
          "name": "stderr"
        },
        {
          "output_type": "stream",
          "text": [
            "\n",
            "Train set: Average loss: 0.0005, Accuracy: 59559/60000 (99.27%)\n",
            "\n"
          ],
          "name": "stdout"
        },
        {
          "output_type": "stream",
          "text": [
            "\n",
            "  0%|          | 0/469 [00:00<?, ?it/s]"
          ],
          "name": "stderr"
        },
        {
          "output_type": "stream",
          "text": [
            "\n",
            "Test set: Average loss: 0.0270, Accuracy: 9912/10000 (99.12%)\n",
            "\n",
            "Epoch 16\n"
          ],
          "name": "stdout"
        },
        {
          "output_type": "stream",
          "text": [
            "loss=0.03970784321427345 batch_id=468: 100%|██████████| 469/469 [00:12<00:00, 36.34it/s]"
          ],
          "name": "stderr"
        },
        {
          "output_type": "stream",
          "text": [
            "\n",
            "Train set: Average loss: 0.0005, Accuracy: 59581/60000 (99.30%)\n",
            "\n"
          ],
          "name": "stdout"
        },
        {
          "output_type": "stream",
          "text": [
            "\n",
            "  0%|          | 0/469 [00:00<?, ?it/s]"
          ],
          "name": "stderr"
        },
        {
          "output_type": "stream",
          "text": [
            "\n",
            "Test set: Average loss: 0.0321, Accuracy: 9897/10000 (98.97%)\n",
            "\n",
            "Epoch 17\n"
          ],
          "name": "stdout"
        },
        {
          "output_type": "stream",
          "text": [
            "loss=0.09621286392211914 batch_id=468: 100%|██████████| 469/469 [00:12<00:00, 36.72it/s]"
          ],
          "name": "stderr"
        },
        {
          "output_type": "stream",
          "text": [
            "\n",
            "Train set: Average loss: 0.0005, Accuracy: 59573/60000 (99.29%)\n",
            "\n"
          ],
          "name": "stdout"
        },
        {
          "output_type": "stream",
          "text": [
            "\n",
            "  0%|          | 0/469 [00:00<?, ?it/s]"
          ],
          "name": "stderr"
        },
        {
          "output_type": "stream",
          "text": [
            "\n",
            "Test set: Average loss: 0.0339, Accuracy: 9893/10000 (98.93%)\n",
            "\n",
            "Epoch 18\n"
          ],
          "name": "stdout"
        },
        {
          "output_type": "stream",
          "text": [
            "loss=0.03765100985765457 batch_id=468: 100%|██████████| 469/469 [00:13<00:00, 35.67it/s]"
          ],
          "name": "stderr"
        },
        {
          "output_type": "stream",
          "text": [
            "\n",
            "Train set: Average loss: 0.0004, Accuracy: 59612/60000 (99.35%)\n",
            "\n"
          ],
          "name": "stdout"
        },
        {
          "output_type": "stream",
          "text": [
            "\n",
            "  0%|          | 0/469 [00:00<?, ?it/s]"
          ],
          "name": "stderr"
        },
        {
          "output_type": "stream",
          "text": [
            "\n",
            "Test set: Average loss: 0.0238, Accuracy: 9928/10000 (99.28%)\n",
            "\n",
            "Epoch 19\n"
          ],
          "name": "stdout"
        },
        {
          "output_type": "stream",
          "text": [
            "loss=0.04205130785703659 batch_id=468: 100%|██████████| 469/469 [00:12<00:00, 36.37it/s]"
          ],
          "name": "stderr"
        },
        {
          "output_type": "stream",
          "text": [
            "\n",
            "Train set: Average loss: 0.0004, Accuracy: 59592/60000 (99.32%)\n",
            "\n"
          ],
          "name": "stdout"
        },
        {
          "output_type": "stream",
          "text": [
            "\n",
            "  0%|          | 0/469 [00:00<?, ?it/s]"
          ],
          "name": "stderr"
        },
        {
          "output_type": "stream",
          "text": [
            "\n",
            "Test set: Average loss: 0.0268, Accuracy: 9916/10000 (99.16%)\n",
            "\n",
            "Epoch 20\n"
          ],
          "name": "stdout"
        },
        {
          "output_type": "stream",
          "text": [
            "loss=0.05555281788110733 batch_id=468: 100%|██████████| 469/469 [00:12<00:00, 36.18it/s]"
          ],
          "name": "stderr"
        },
        {
          "output_type": "stream",
          "text": [
            "\n",
            "Train set: Average loss: 0.0004, Accuracy: 59617/60000 (99.36%)\n",
            "\n"
          ],
          "name": "stdout"
        },
        {
          "output_type": "stream",
          "text": [
            "\n",
            "  0%|          | 0/469 [00:00<?, ?it/s]"
          ],
          "name": "stderr"
        },
        {
          "output_type": "stream",
          "text": [
            "\n",
            "Test set: Average loss: 0.0272, Accuracy: 9923/10000 (99.23%)\n",
            "\n",
            "Epoch 21\n"
          ],
          "name": "stdout"
        },
        {
          "output_type": "stream",
          "text": [
            "loss=0.06036366522312164 batch_id=468: 100%|██████████| 469/469 [00:12<00:00, 36.26it/s]"
          ],
          "name": "stderr"
        },
        {
          "output_type": "stream",
          "text": [
            "\n",
            "Train set: Average loss: 0.0004, Accuracy: 59628/60000 (99.38%)\n",
            "\n"
          ],
          "name": "stdout"
        },
        {
          "output_type": "stream",
          "text": [
            "\n",
            "  0%|          | 0/469 [00:00<?, ?it/s]"
          ],
          "name": "stderr"
        },
        {
          "output_type": "stream",
          "text": [
            "\n",
            "Test set: Average loss: 0.0260, Accuracy: 9914/10000 (99.14%)\n",
            "\n",
            "Epoch 22\n"
          ],
          "name": "stdout"
        },
        {
          "output_type": "stream",
          "text": [
            "loss=0.037135977298021317 batch_id=468: 100%|██████████| 469/469 [00:13<00:00, 35.96it/s]"
          ],
          "name": "stderr"
        },
        {
          "output_type": "stream",
          "text": [
            "\n",
            "Train set: Average loss: 0.0004, Accuracy: 59603/60000 (99.34%)\n",
            "\n"
          ],
          "name": "stdout"
        },
        {
          "output_type": "stream",
          "text": [
            "\n",
            "  0%|          | 0/469 [00:00<?, ?it/s]"
          ],
          "name": "stderr"
        },
        {
          "output_type": "stream",
          "text": [
            "\n",
            "Test set: Average loss: 0.0245, Accuracy: 9913/10000 (99.13%)\n",
            "\n",
            "Epoch 23\n"
          ],
          "name": "stdout"
        },
        {
          "output_type": "stream",
          "text": [
            "loss=0.059517160058021545 batch_id=468: 100%|██████████| 469/469 [00:13<00:00, 35.55it/s]\n"
          ],
          "name": "stderr"
        },
        {
          "output_type": "stream",
          "text": [
            "\n",
            "Train set: Average loss: 0.0004, Accuracy: 59639/60000 (99.40%)\n",
            "\n"
          ],
          "name": "stdout"
        },
        {
          "output_type": "stream",
          "text": [
            "\r  0%|          | 0/469 [00:00<?, ?it/s]"
          ],
          "name": "stderr"
        },
        {
          "output_type": "stream",
          "text": [
            "\n",
            "Test set: Average loss: 0.0248, Accuracy: 9922/10000 (99.22%)\n",
            "\n",
            "Epoch 24\n"
          ],
          "name": "stdout"
        },
        {
          "output_type": "stream",
          "text": [
            "loss=0.04150734096765518 batch_id=468: 100%|██████████| 469/469 [00:13<00:00, 35.79it/s]\n"
          ],
          "name": "stderr"
        },
        {
          "output_type": "stream",
          "text": [
            "\n",
            "Train set: Average loss: 0.0004, Accuracy: 59627/60000 (99.38%)\n",
            "\n"
          ],
          "name": "stdout"
        },
        {
          "output_type": "stream",
          "text": [
            "\r  0%|          | 0/469 [00:00<?, ?it/s]"
          ],
          "name": "stderr"
        },
        {
          "output_type": "stream",
          "text": [
            "\n",
            "Test set: Average loss: 0.0277, Accuracy: 9908/10000 (99.08%)\n",
            "\n",
            "Epoch 25\n"
          ],
          "name": "stdout"
        },
        {
          "output_type": "stream",
          "text": [
            "loss=0.037582892924547195 batch_id=468: 100%|██████████| 469/469 [00:13<00:00, 35.50it/s]"
          ],
          "name": "stderr"
        },
        {
          "output_type": "stream",
          "text": [
            "\n",
            "Train set: Average loss: 0.0004, Accuracy: 59611/60000 (99.35%)\n",
            "\n"
          ],
          "name": "stdout"
        },
        {
          "output_type": "stream",
          "text": [
            "\n"
          ],
          "name": "stderr"
        },
        {
          "output_type": "stream",
          "text": [
            "\n",
            "Test set: Average loss: 0.0228, Accuracy: 9930/10000 (99.30%)\n",
            "\n"
          ],
          "name": "stdout"
        },
        {
          "output_type": "display_data",
          "data": {
            "image/png": "[encoded data removed]",
            "text/plain": [
              "<Figure size 720x720 with 20 Axes>"
            ]
          },
          "metadata": {
            "tags": [],
            "needs_background": "light"
          }
        },
        {
          "output_type": "stream",
          "text": [
            "\r  0%|          | 0/469 [00:00<?, ?it/s]"
          ],
          "name": "stderr"
        },
        {
          "output_type": "stream",
          "text": [
            "LayerNorm Model + L2\n",
            "Epoch 1\n"
          ],
          "name": "stdout"
        },
        {
          "output_type": "stream",
          "text": [
            "loss=0.11507325619459152 batch_id=468: 100%|██████████| 469/469 [00:12<00:00, 36.84it/s]"
          ],
          "name": "stderr"
        },
        {
          "output_type": "stream",
          "text": [
            "\n",
            "Train set: Average loss: 0.0019, Accuracy: 55808/60000 (93.01%)\n",
            "\n"
          ],
          "name": "stdout"
        },
        {
          "output_type": "stream",
          "text": [
            "\n",
            "  0%|          | 0/469 [00:00<?, ?it/s]"
          ],
          "name": "stderr"
        },
        {
          "output_type": "stream",
          "text": [
            "\n",
            "Test set: Average loss: 0.0686, Accuracy: 9797/10000 (97.97%)\n",
            "\n",
            "Epoch 2\n"
          ],
          "name": "stdout"
        },
        {
          "output_type": "stream",
          "text": [
            "loss=0.011456199921667576 batch_id=468: 100%|██████████| 469/469 [00:12<00:00, 36.71it/s]"
          ],
          "name": "stderr"
        },
        {
          "output_type": "stream",
          "text": [
            "\n",
            "Train set: Average loss: 0.0005, Accuracy: 58788/60000 (97.98%)\n",
            "\n"
          ],
          "name": "stdout"
        },
        {
          "output_type": "stream",
          "text": [
            "\n",
            "  0%|          | 0/469 [00:00<?, ?it/s]"
          ],
          "name": "stderr"
        },
        {
          "output_type": "stream",
          "text": [
            "\n",
            "Test set: Average loss: 0.0441, Accuracy: 9863/10000 (98.63%)\n",
            "\n",
            "Epoch 3\n"
          ],
          "name": "stdout"
        },
        {
          "output_type": "stream",
          "text": [
            "loss=0.059951093047857285 batch_id=468: 100%|██████████| 469/469 [00:12<00:00, 37.01it/s]"
          ],
          "name": "stderr"
        },
        {
          "output_type": "stream",
          "text": [
            "\n",
            "Train set: Average loss: 0.0004, Accuracy: 59107/60000 (98.51%)\n",
            "\n"
          ],
          "name": "stdout"
        },
        {
          "output_type": "stream",
          "text": [
            "\n",
            "  0%|          | 0/469 [00:00<?, ?it/s]"
          ],
          "name": "stderr"
        },
        {
          "output_type": "stream",
          "text": [
            "\n",
            "Test set: Average loss: 0.0405, Accuracy: 9889/10000 (98.89%)\n",
            "\n",
            "Epoch 4\n"
          ],
          "name": "stdout"
        },
        {
          "output_type": "stream",
          "text": [
            "loss=0.051505666226148605 batch_id=468: 100%|██████████| 469/469 [00:12<00:00, 36.93it/s]"
          ],
          "name": "stderr"
        },
        {
          "output_type": "stream",
          "text": [
            "\n",
            "Train set: Average loss: 0.0003, Accuracy: 59202/60000 (98.67%)\n",
            "\n"
          ],
          "name": "stdout"
        },
        {
          "output_type": "stream",
          "text": [
            "\n",
            "  0%|          | 0/469 [00:00<?, ?it/s]"
          ],
          "name": "stderr"
        },
        {
          "output_type": "stream",
          "text": [
            "\n",
            "Test set: Average loss: 0.0395, Accuracy: 9872/10000 (98.72%)\n",
            "\n",
            "Epoch 5\n"
          ],
          "name": "stdout"
        },
        {
          "output_type": "stream",
          "text": [
            "loss=0.019342292100191116 batch_id=468: 100%|██████████| 469/469 [00:12<00:00, 36.90it/s]"
          ],
          "name": "stderr"
        },
        {
          "output_type": "stream",
          "text": [
            "\n",
            "Train set: Average loss: 0.0003, Accuracy: 59328/60000 (98.88%)\n",
            "\n"
          ],
          "name": "stdout"
        },
        {
          "output_type": "stream",
          "text": [
            "\n",
            "  0%|          | 0/469 [00:00<?, ?it/s]"
          ],
          "name": "stderr"
        },
        {
          "output_type": "stream",
          "text": [
            "\n",
            "Test set: Average loss: 0.0360, Accuracy: 9893/10000 (98.93%)\n",
            "\n",
            "Epoch 6\n"
          ],
          "name": "stdout"
        },
        {
          "output_type": "stream",
          "text": [
            "loss=0.00896739587187767 batch_id=468: 100%|██████████| 469/469 [00:12<00:00, 37.09it/s]"
          ],
          "name": "stderr"
        },
        {
          "output_type": "stream",
          "text": [
            "\n",
            "Train set: Average loss: 0.0003, Accuracy: 59382/60000 (98.97%)\n",
            "\n"
          ],
          "name": "stdout"
        },
        {
          "output_type": "stream",
          "text": [
            "\n",
            "  0%|          | 0/469 [00:00<?, ?it/s]"
          ],
          "name": "stderr"
        },
        {
          "output_type": "stream",
          "text": [
            "\n",
            "Test set: Average loss: 0.0325, Accuracy: 9899/10000 (98.99%)\n",
            "\n",
            "Epoch 7\n"
          ],
          "name": "stdout"
        },
        {
          "output_type": "stream",
          "text": [
            "loss=0.03422100469470024 batch_id=468: 100%|██████████| 469/469 [00:12<00:00, 37.23it/s]"
          ],
          "name": "stderr"
        },
        {
          "output_type": "stream",
          "text": [
            "\n",
            "Train set: Average loss: 0.0002, Accuracy: 59439/60000 (99.06%)\n",
            "\n"
          ],
          "name": "stdout"
        },
        {
          "output_type": "stream",
          "text": [
            "\n",
            "  0%|          | 0/469 [00:00<?, ?it/s]"
          ],
          "name": "stderr"
        },
        {
          "output_type": "stream",
          "text": [
            "\n",
            "Test set: Average loss: 0.0286, Accuracy: 9917/10000 (99.17%)\n",
            "\n",
            "Epoch 8\n"
          ],
          "name": "stdout"
        },
        {
          "output_type": "stream",
          "text": [
            "loss=0.014888479374349117 batch_id=468: 100%|██████████| 469/469 [00:12<00:00, 37.57it/s]"
          ],
          "name": "stderr"
        },
        {
          "output_type": "stream",
          "text": [
            "\n",
            "Train set: Average loss: 0.0002, Accuracy: 59474/60000 (99.12%)\n",
            "\n"
          ],
          "name": "stdout"
        },
        {
          "output_type": "stream",
          "text": [
            "\n",
            "  0%|          | 0/469 [00:00<?, ?it/s]"
          ],
          "name": "stderr"
        },
        {
          "output_type": "stream",
          "text": [
            "\n",
            "Test set: Average loss: 0.0322, Accuracy: 9897/10000 (98.97%)\n",
            "\n",
            "Epoch 9\n"
          ],
          "name": "stdout"
        },
        {
          "output_type": "stream",
          "text": [
            "loss=0.0168988648802042 batch_id=468: 100%|██████████| 469/469 [00:12<00:00, 36.51it/s]"
          ],
          "name": "stderr"
        },
        {
          "output_type": "stream",
          "text": [
            "\n",
            "Train set: Average loss: 0.0002, Accuracy: 59490/60000 (99.15%)\n",
            "\n"
          ],
          "name": "stdout"
        },
        {
          "output_type": "stream",
          "text": [
            "\n",
            "  0%|          | 0/469 [00:00<?, ?it/s]"
          ],
          "name": "stderr"
        },
        {
          "output_type": "stream",
          "text": [
            "\n",
            "Test set: Average loss: 0.0268, Accuracy: 9917/10000 (99.17%)\n",
            "\n",
            "Epoch 10\n"
          ],
          "name": "stdout"
        },
        {
          "output_type": "stream",
          "text": [
            "loss=0.015539458952844143 batch_id=468: 100%|██████████| 469/469 [00:12<00:00, 36.34it/s]"
          ],
          "name": "stderr"
        },
        {
          "output_type": "stream",
          "text": [
            "\n",
            "Train set: Average loss: 0.0002, Accuracy: 59551/60000 (99.25%)\n",
            "\n"
          ],
          "name": "stdout"
        },
        {
          "output_type": "stream",
          "text": [
            "\n",
            "  0%|          | 0/469 [00:00<?, ?it/s]"
          ],
          "name": "stderr"
        },
        {
          "output_type": "stream",
          "text": [
            "\n",
            "Test set: Average loss: 0.0276, Accuracy: 9913/10000 (99.13%)\n",
            "\n",
            "Epoch 11\n"
          ],
          "name": "stdout"
        },
        {
          "output_type": "stream",
          "text": [
            "loss=0.034998733550310135 batch_id=468: 100%|██████████| 469/469 [00:12<00:00, 36.91it/s]\n"
          ],
          "name": "stderr"
        },
        {
          "output_type": "stream",
          "text": [
            "\n",
            "Train set: Average loss: 0.0002, Accuracy: 59532/60000 (99.22%)\n",
            "\n"
          ],
          "name": "stdout"
        },
        {
          "output_type": "stream",
          "text": [
            "\r  0%|          | 0/469 [00:00<?, ?it/s]"
          ],
          "name": "stderr"
        },
        {
          "output_type": "stream",
          "text": [
            "\n",
            "Test set: Average loss: 0.0302, Accuracy: 9905/10000 (99.05%)\n",
            "\n",
            "Epoch 12\n"
          ],
          "name": "stdout"
        },
        {
          "output_type": "stream",
          "text": [
            "loss=0.012457486242055893 batch_id=468: 100%|██████████| 469/469 [00:12<00:00, 37.15it/s]"
          ],
          "name": "stderr"
        },
        {
          "output_type": "stream",
          "text": [
            "\n",
            "Train set: Average loss: 0.0002, Accuracy: 59563/60000 (99.27%)\n",
            "\n"
          ],
          "name": "stdout"
        },
        {
          "output_type": "stream",
          "text": [
            "\n",
            "  0%|          | 0/469 [00:00<?, ?it/s]"
          ],
          "name": "stderr"
        },
        {
          "output_type": "stream",
          "text": [
            "\n",
            "Test set: Average loss: 0.0279, Accuracy: 9913/10000 (99.13%)\n",
            "\n",
            "Epoch 13\n"
          ],
          "name": "stdout"
        },
        {
          "output_type": "stream",
          "text": [
            "loss=0.011172511614859104 batch_id=468: 100%|██████████| 469/469 [00:12<00:00, 36.72it/s]"
          ],
          "name": "stderr"
        },
        {
          "output_type": "stream",
          "text": [
            "\n",
            "Train set: Average loss: 0.0002, Accuracy: 59601/60000 (99.33%)\n",
            "\n"
          ],
          "name": "stdout"
        },
        {
          "output_type": "stream",
          "text": [
            "\n",
            "  0%|          | 0/469 [00:00<?, ?it/s]"
          ],
          "name": "stderr"
        },
        {
          "output_type": "stream",
          "text": [
            "\n",
            "Test set: Average loss: 0.0257, Accuracy: 9924/10000 (99.24%)\n",
            "\n",
            "Epoch 14\n"
          ],
          "name": "stdout"
        },
        {
          "output_type": "stream",
          "text": [
            "loss=0.004736244212836027 batch_id=468: 100%|██████████| 469/469 [00:12<00:00, 36.30it/s]"
          ],
          "name": "stderr"
        },
        {
          "output_type": "stream",
          "text": [
            "\n",
            "Train set: Average loss: 0.0002, Accuracy: 59591/60000 (99.32%)\n",
            "\n"
          ],
          "name": "stdout"
        },
        {
          "output_type": "stream",
          "text": [
            "\n",
            "  0%|          | 0/469 [00:00<?, ?it/s]"
          ],
          "name": "stderr"
        },
        {
          "output_type": "stream",
          "text": [
            "\n",
            "Test set: Average loss: 0.0285, Accuracy: 9913/10000 (99.13%)\n",
            "\n",
            "Epoch 15\n"
          ],
          "name": "stdout"
        },
        {
          "output_type": "stream",
          "text": [
            "loss=0.024786820635199547 batch_id=468: 100%|██████████| 469/469 [00:13<00:00, 36.02it/s]"
          ],
          "name": "stderr"
        },
        {
          "output_type": "stream",
          "text": [
            "\n",
            "Train set: Average loss: 0.0002, Accuracy: 59623/60000 (99.37%)\n",
            "\n"
          ],
          "name": "stdout"
        },
        {
          "output_type": "stream",
          "text": [
            "\n",
            "  0%|          | 0/469 [00:00<?, ?it/s]"
          ],
          "name": "stderr"
        },
        {
          "output_type": "stream",
          "text": [
            "\n",
            "Test set: Average loss: 0.0254, Accuracy: 9912/10000 (99.12%)\n",
            "\n",
            "Epoch 16\n"
          ],
          "name": "stdout"
        },
        {
          "output_type": "stream",
          "text": [
            "loss=0.010918502695858479 batch_id=468: 100%|██████████| 469/469 [00:12<00:00, 36.26it/s]"
          ],
          "name": "stderr"
        },
        {
          "output_type": "stream",
          "text": [
            "\n",
            "Train set: Average loss: 0.0002, Accuracy: 59658/60000 (99.43%)\n",
            "\n"
          ],
          "name": "stdout"
        },
        {
          "output_type": "stream",
          "text": [
            "\n",
            "  0%|          | 0/469 [00:00<?, ?it/s]"
          ],
          "name": "stderr"
        },
        {
          "output_type": "stream",
          "text": [
            "\n",
            "Test set: Average loss: 0.0258, Accuracy: 9923/10000 (99.23%)\n",
            "\n",
            "Epoch 17\n"
          ],
          "name": "stdout"
        },
        {
          "output_type": "stream",
          "text": [
            "loss=0.04775531217455864 batch_id=468: 100%|██████████| 469/469 [00:12<00:00, 36.78it/s]"
          ],
          "name": "stderr"
        },
        {
          "output_type": "stream",
          "text": [
            "\n",
            "Train set: Average loss: 0.0001, Accuracy: 59668/60000 (99.45%)\n",
            "\n"
          ],
          "name": "stdout"
        },
        {
          "output_type": "stream",
          "text": [
            "\n",
            "  0%|          | 0/469 [00:00<?, ?it/s]"
          ],
          "name": "stderr"
        },
        {
          "output_type": "stream",
          "text": [
            "\n",
            "Test set: Average loss: 0.0260, Accuracy: 9913/10000 (99.13%)\n",
            "\n",
            "Epoch 18\n"
          ],
          "name": "stdout"
        },
        {
          "output_type": "stream",
          "text": [
            "loss=0.005821589380502701 batch_id=468: 100%|██████████| 469/469 [00:12<00:00, 36.37it/s]"
          ],
          "name": "stderr"
        },
        {
          "output_type": "stream",
          "text": [
            "\n",
            "Train set: Average loss: 0.0001, Accuracy: 59654/60000 (99.42%)\n",
            "\n"
          ],
          "name": "stdout"
        },
        {
          "output_type": "stream",
          "text": [
            "\n",
            "  0%|          | 0/469 [00:00<?, ?it/s]"
          ],
          "name": "stderr"
        },
        {
          "output_type": "stream",
          "text": [
            "\n",
            "Test set: Average loss: 0.0245, Accuracy: 9922/10000 (99.22%)\n",
            "\n",
            "Epoch 19\n"
          ],
          "name": "stdout"
        },
        {
          "output_type": "stream",
          "text": [
            "loss=0.005372070241719484 batch_id=468: 100%|██████████| 469/469 [00:12<00:00, 36.77it/s]"
          ],
          "name": "stderr"
        },
        {
          "output_type": "stream",
          "text": [
            "\n",
            "Train set: Average loss: 0.0001, Accuracy: 59688/60000 (99.48%)\n",
            "\n"
          ],
          "name": "stdout"
        },
        {
          "output_type": "stream",
          "text": [
            "\n",
            "  0%|          | 0/469 [00:00<?, ?it/s]"
          ],
          "name": "stderr"
        },
        {
          "output_type": "stream",
          "text": [
            "\n",
            "Test set: Average loss: 0.0242, Accuracy: 9928/10000 (99.28%)\n",
            "\n",
            "Epoch 20\n"
          ],
          "name": "stdout"
        },
        {
          "output_type": "stream",
          "text": [
            "loss=0.003993716090917587 batch_id=468: 100%|██████████| 469/469 [00:12<00:00, 36.60it/s]"
          ],
          "name": "stderr"
        },
        {
          "output_type": "stream",
          "text": [
            "\n",
            "Train set: Average loss: 0.0001, Accuracy: 59728/60000 (99.55%)\n",
            "\n"
          ],
          "name": "stdout"
        },
        {
          "output_type": "stream",
          "text": [
            "\n",
            "  0%|          | 0/469 [00:00<?, ?it/s]"
          ],
          "name": "stderr"
        },
        {
          "output_type": "stream",
          "text": [
            "\n",
            "Test set: Average loss: 0.0246, Accuracy: 9923/10000 (99.23%)\n",
            "\n",
            "Epoch 21\n"
          ],
          "name": "stdout"
        },
        {
          "output_type": "stream",
          "text": [
            "loss=0.03007536381483078 batch_id=468: 100%|██████████| 469/469 [00:13<00:00, 35.95it/s]"
          ],
          "name": "stderr"
        },
        {
          "output_type": "stream",
          "text": [
            "\n",
            "Train set: Average loss: 0.0001, Accuracy: 59688/60000 (99.48%)\n",
            "\n"
          ],
          "name": "stdout"
        },
        {
          "output_type": "stream",
          "text": [
            "\n",
            "  0%|          | 0/469 [00:00<?, ?it/s]"
          ],
          "name": "stderr"
        },
        {
          "output_type": "stream",
          "text": [
            "\n",
            "Test set: Average loss: 0.0270, Accuracy: 9914/10000 (99.14%)\n",
            "\n",
            "Epoch 22\n"
          ],
          "name": "stdout"
        },
        {
          "output_type": "stream",
          "text": [
            "loss=0.003015509806573391 batch_id=468: 100%|██████████| 469/469 [00:12<00:00, 36.43it/s]"
          ],
          "name": "stderr"
        },
        {
          "output_type": "stream",
          "text": [
            "\n",
            "Train set: Average loss: 0.0001, Accuracy: 59704/60000 (99.51%)\n",
            "\n"
          ],
          "name": "stdout"
        },
        {
          "output_type": "stream",
          "text": [
            "\n",
            "  0%|          | 0/469 [00:00<?, ?it/s]"
          ],
          "name": "stderr"
        },
        {
          "output_type": "stream",
          "text": [
            "\n",
            "Test set: Average loss: 0.0272, Accuracy: 9911/10000 (99.11%)\n",
            "\n",
            "Epoch 23\n"
          ],
          "name": "stdout"
        },
        {
          "output_type": "stream",
          "text": [
            "loss=0.042447272688150406 batch_id=468: 100%|██████████| 469/469 [00:12<00:00, 36.13it/s]"
          ],
          "name": "stderr"
        },
        {
          "output_type": "stream",
          "text": [
            "\n",
            "Train set: Average loss: 0.0001, Accuracy: 59723/60000 (99.54%)\n",
            "\n"
          ],
          "name": "stdout"
        },
        {
          "output_type": "stream",
          "text": [
            "\n",
            "  0%|          | 0/469 [00:00<?, ?it/s]"
          ],
          "name": "stderr"
        },
        {
          "output_type": "stream",
          "text": [
            "\n",
            "Test set: Average loss: 0.0259, Accuracy: 9911/10000 (99.11%)\n",
            "\n",
            "Epoch 24\n"
          ],
          "name": "stdout"
        },
        {
          "output_type": "stream",
          "text": [
            "loss=0.0040441700257360935 batch_id=468: 100%|██████████| 469/469 [00:12<00:00, 36.28it/s]\n"
          ],
          "name": "stderr"
        },
        {
          "output_type": "stream",
          "text": [
            "\n",
            "Train set: Average loss: 0.0001, Accuracy: 59757/60000 (99.59%)\n",
            "\n"
          ],
          "name": "stdout"
        },
        {
          "output_type": "stream",
          "text": [
            "\r  0%|          | 0/469 [00:00<?, ?it/s]"
          ],
          "name": "stderr"
        },
        {
          "output_type": "stream",
          "text": [
            "\n",
            "Test set: Average loss: 0.0317, Accuracy: 9899/10000 (98.99%)\n",
            "\n",
            "Epoch 25\n"
          ],
          "name": "stdout"
        },
        {
          "output_type": "stream",
          "text": [
            "loss=0.001395625644363463 batch_id=468: 100%|██████████| 469/469 [00:13<00:00, 35.45it/s]"
          ],
          "name": "stderr"
        },
        {
          "output_type": "stream",
          "text": [
            "\n",
            "Train set: Average loss: 0.0001, Accuracy: 59730/60000 (99.55%)\n",
            "\n"
          ],
          "name": "stdout"
        },
        {
          "output_type": "stream",
          "text": [
            "\n"
          ],
          "name": "stderr"
        },
        {
          "output_type": "stream",
          "text": [
            "\n",
            "Test set: Average loss: 0.0256, Accuracy: 9922/10000 (99.22%)\n",
            "\n"
          ],
          "name": "stdout"
        },
        {
          "output_type": "display_data",
          "data": {
            "image/png": "[encoded data removed]",
            "text/plain": [
              "<Figure size 720x720 with 20 Axes>"
            ]
          },
          "metadata": {
            "tags": [],
            "needs_background": "light"
          }
        },
        {
          "output_type": "stream",
          "text": [
            "\r  0%|          | 0/469 [00:00<?, ?it/s]"
          ],
          "name": "stderr"
        },
        {
          "output_type": "stream",
          "text": [
            "GroupNorm Model + L1\n",
            "Epoch 1\n"
          ],
          "name": "stdout"
        },
        {
          "output_type": "stream",
          "text": [
            "loss=0.19169394671916962 batch_id=468: 100%|██████████| 469/469 [00:13<00:00, 33.65it/s]"
          ],
          "name": "stderr"
        },
        {
          "output_type": "stream",
          "text": [
            "\n",
            "Train set: Average loss: 0.0021, Accuracy: 56208/60000 (93.68%)\n",
            "\n"
          ],
          "name": "stdout"
        },
        {
          "output_type": "stream",
          "text": [
            "\n",
            "  0%|          | 0/469 [00:00<?, ?it/s]"
          ],
          "name": "stderr"
        },
        {
          "output_type": "stream",
          "text": [
            "\n",
            "Test set: Average loss: 0.0728, Accuracy: 9795/10000 (97.95%)\n",
            "\n",
            "Epoch 2\n"
          ],
          "name": "stdout"
        },
        {
          "output_type": "stream",
          "text": [
            "loss=0.04866510629653931 batch_id=468: 100%|██████████| 469/469 [00:13<00:00, 34.06it/s]"
          ],
          "name": "stderr"
        },
        {
          "output_type": "stream",
          "text": [
            "\n",
            "Train set: Average loss: 0.0008, Accuracy: 58831/60000 (98.05%)\n",
            "\n"
          ],
          "name": "stdout"
        },
        {
          "output_type": "stream",
          "text": [
            "\n",
            "  0%|          | 0/469 [00:00<?, ?it/s]"
          ],
          "name": "stderr"
        },
        {
          "output_type": "stream",
          "text": [
            "\n",
            "Test set: Average loss: 0.0541, Accuracy: 9834/10000 (98.34%)\n",
            "\n",
            "Epoch 3\n"
          ],
          "name": "stdout"
        },
        {
          "output_type": "stream",
          "text": [
            "loss=0.09576994180679321 batch_id=468: 100%|██████████| 469/469 [00:13<00:00, 34.04it/s]"
          ],
          "name": "stderr"
        },
        {
          "output_type": "stream",
          "text": [
            "\n",
            "Train set: Average loss: 0.0007, Accuracy: 59098/60000 (98.50%)\n",
            "\n"
          ],
          "name": "stdout"
        },
        {
          "output_type": "stream",
          "text": [
            "\n",
            "  0%|          | 0/469 [00:00<?, ?it/s]"
          ],
          "name": "stderr"
        },
        {
          "output_type": "stream",
          "text": [
            "\n",
            "Test set: Average loss: 0.0473, Accuracy: 9835/10000 (98.35%)\n",
            "\n",
            "Epoch 4\n"
          ],
          "name": "stdout"
        },
        {
          "output_type": "stream",
          "text": [
            "loss=0.08535240590572357 batch_id=468: 100%|██████████| 469/469 [00:13<00:00, 33.65it/s]"
          ],
          "name": "stderr"
        },
        {
          "output_type": "stream",
          "text": [
            "\n",
            "Train set: Average loss: 0.0006, Accuracy: 59168/60000 (98.61%)\n",
            "\n"
          ],
          "name": "stdout"
        },
        {
          "output_type": "stream",
          "text": [
            "\n",
            "  0%|          | 0/469 [00:00<?, ?it/s]"
          ],
          "name": "stderr"
        },
        {
          "output_type": "stream",
          "text": [
            "\n",
            "Test set: Average loss: 0.0424, Accuracy: 9864/10000 (98.64%)\n",
            "\n",
            "Epoch 5\n"
          ],
          "name": "stdout"
        },
        {
          "output_type": "stream",
          "text": [
            "loss=0.047074656933546066 batch_id=468: 100%|██████████| 469/469 [00:13<00:00, 33.94it/s]"
          ],
          "name": "stderr"
        },
        {
          "output_type": "stream",
          "text": [
            "\n",
            "Train set: Average loss: 0.0006, Accuracy: 59284/60000 (98.81%)\n",
            "\n"
          ],
          "name": "stdout"
        },
        {
          "output_type": "stream",
          "text": [
            "\n",
            "  0%|          | 0/469 [00:00<?, ?it/s]"
          ],
          "name": "stderr"
        },
        {
          "output_type": "stream",
          "text": [
            "\n",
            "Test set: Average loss: 0.0397, Accuracy: 9859/10000 (98.59%)\n",
            "\n",
            "Epoch 6\n"
          ],
          "name": "stdout"
        },
        {
          "output_type": "stream",
          "text": [
            "loss=0.06071905046701431 batch_id=468: 100%|██████████| 469/469 [00:14<00:00, 33.40it/s]"
          ],
          "name": "stderr"
        },
        {
          "output_type": "stream",
          "text": [
            "\n",
            "Train set: Average loss: 0.0006, Accuracy: 59337/60000 (98.89%)\n",
            "\n"
          ],
          "name": "stdout"
        },
        {
          "output_type": "stream",
          "text": [
            "\n",
            "  0%|          | 0/469 [00:00<?, ?it/s]"
          ],
          "name": "stderr"
        },
        {
          "output_type": "stream",
          "text": [
            "\n",
            "Test set: Average loss: 0.0400, Accuracy: 9878/10000 (98.78%)\n",
            "\n",
            "Epoch 7\n"
          ],
          "name": "stdout"
        },
        {
          "output_type": "stream",
          "text": [
            "loss=0.06877895444631577 batch_id=468: 100%|██████████| 469/469 [00:13<00:00, 33.54it/s]"
          ],
          "name": "stderr"
        },
        {
          "output_type": "stream",
          "text": [
            "\n",
            "Train set: Average loss: 0.0006, Accuracy: 59390/60000 (98.98%)\n",
            "\n"
          ],
          "name": "stdout"
        },
        {
          "output_type": "stream",
          "text": [
            "\n",
            "  0%|          | 0/469 [00:00<?, ?it/s]"
          ],
          "name": "stderr"
        },
        {
          "output_type": "stream",
          "text": [
            "\n",
            "Test set: Average loss: 0.0308, Accuracy: 9903/10000 (99.03%)\n",
            "\n",
            "Epoch 8\n"
          ],
          "name": "stdout"
        },
        {
          "output_type": "stream",
          "text": [
            "loss=0.04589027538895607 batch_id=468: 100%|██████████| 469/469 [00:13<00:00, 33.83it/s]"
          ],
          "name": "stderr"
        },
        {
          "output_type": "stream",
          "text": [
            "\n",
            "Train set: Average loss: 0.0005, Accuracy: 59431/60000 (99.05%)\n",
            "\n"
          ],
          "name": "stdout"
        },
        {
          "output_type": "stream",
          "text": [
            "\n",
            "  0%|          | 0/469 [00:00<?, ?it/s]"
          ],
          "name": "stderr"
        },
        {
          "output_type": "stream",
          "text": [
            "\n",
            "Test set: Average loss: 0.0332, Accuracy: 9898/10000 (98.98%)\n",
            "\n",
            "Epoch 9\n"
          ],
          "name": "stdout"
        },
        {
          "output_type": "stream",
          "text": [
            "loss=0.07901570200920105 batch_id=468: 100%|██████████| 469/469 [00:13<00:00, 33.81it/s]"
          ],
          "name": "stderr"
        },
        {
          "output_type": "stream",
          "text": [
            "\n",
            "Train set: Average loss: 0.0005, Accuracy: 59456/60000 (99.09%)\n",
            "\n"
          ],
          "name": "stdout"
        },
        {
          "output_type": "stream",
          "text": [
            "\n",
            "  0%|          | 0/469 [00:00<?, ?it/s]"
          ],
          "name": "stderr"
        },
        {
          "output_type": "stream",
          "text": [
            "\n",
            "Test set: Average loss: 0.0360, Accuracy: 9889/10000 (98.89%)\n",
            "\n",
            "Epoch 10\n"
          ],
          "name": "stdout"
        },
        {
          "output_type": "stream",
          "text": [
            "loss=0.042435094714164734 batch_id=468: 100%|██████████| 469/469 [00:13<00:00, 33.74it/s]"
          ],
          "name": "stderr"
        },
        {
          "output_type": "stream",
          "text": [
            "\n",
            "Train set: Average loss: 0.0005, Accuracy: 59461/60000 (99.10%)\n",
            "\n"
          ],
          "name": "stdout"
        },
        {
          "output_type": "stream",
          "text": [
            "\n",
            "  0%|          | 0/469 [00:00<?, ?it/s]"
          ],
          "name": "stderr"
        },
        {
          "output_type": "stream",
          "text": [
            "\n",
            "Test set: Average loss: 0.0342, Accuracy: 9887/10000 (98.87%)\n",
            "\n",
            "Epoch 11\n"
          ],
          "name": "stdout"
        },
        {
          "output_type": "stream",
          "text": [
            "loss=0.04508331045508385 batch_id=468: 100%|██████████| 469/469 [00:14<00:00, 33.35it/s]"
          ],
          "name": "stderr"
        },
        {
          "output_type": "stream",
          "text": [
            "\n",
            "Train set: Average loss: 0.0005, Accuracy: 59505/60000 (99.17%)\n",
            "\n"
          ],
          "name": "stdout"
        },
        {
          "output_type": "stream",
          "text": [
            "\n",
            "  0%|          | 0/469 [00:00<?, ?it/s]"
          ],
          "name": "stderr"
        },
        {
          "output_type": "stream",
          "text": [
            "\n",
            "Test set: Average loss: 0.0294, Accuracy: 9909/10000 (99.09%)\n",
            "\n",
            "Epoch 12\n"
          ],
          "name": "stdout"
        },
        {
          "output_type": "stream",
          "text": [
            "loss=0.05186755955219269 batch_id=468: 100%|██████████| 469/469 [00:13<00:00, 33.82it/s]"
          ],
          "name": "stderr"
        },
        {
          "output_type": "stream",
          "text": [
            "\n",
            "Train set: Average loss: 0.0005, Accuracy: 59505/60000 (99.17%)\n",
            "\n"
          ],
          "name": "stdout"
        },
        {
          "output_type": "stream",
          "text": [
            "\n",
            "  0%|          | 0/469 [00:00<?, ?it/s]"
          ],
          "name": "stderr"
        },
        {
          "output_type": "stream",
          "text": [
            "\n",
            "Test set: Average loss: 0.0314, Accuracy: 9890/10000 (98.90%)\n",
            "\n",
            "Epoch 13\n"
          ],
          "name": "stdout"
        },
        {
          "output_type": "stream",
          "text": [
            "loss=0.05018587037920952 batch_id=468: 100%|██████████| 469/469 [00:14<00:00, 33.49it/s]\n"
          ],
          "name": "stderr"
        },
        {
          "output_type": "stream",
          "text": [
            "\n",
            "Train set: Average loss: 0.0005, Accuracy: 59490/60000 (99.15%)\n",
            "\n"
          ],
          "name": "stdout"
        },
        {
          "output_type": "stream",
          "text": [
            "\r  0%|          | 0/469 [00:00<?, ?it/s]"
          ],
          "name": "stderr"
        },
        {
          "output_type": "stream",
          "text": [
            "\n",
            "Test set: Average loss: 0.0314, Accuracy: 9900/10000 (99.00%)\n",
            "\n",
            "Epoch 14\n"
          ],
          "name": "stdout"
        },
        {
          "output_type": "stream",
          "text": [
            "loss=0.0496729277074337 batch_id=468: 100%|██████████| 469/469 [00:13<00:00, 33.96it/s]"
          ],
          "name": "stderr"
        },
        {
          "output_type": "stream",
          "text": [
            "\n",
            "Train set: Average loss: 0.0005, Accuracy: 59541/60000 (99.23%)\n",
            "\n"
          ],
          "name": "stdout"
        },
        {
          "output_type": "stream",
          "text": [
            "\n",
            "  0%|          | 0/469 [00:00<?, ?it/s]"
          ],
          "name": "stderr"
        },
        {
          "output_type": "stream",
          "text": [
            "\n",
            "Test set: Average loss: 0.0342, Accuracy: 9895/10000 (98.95%)\n",
            "\n",
            "Epoch 15\n"
          ],
          "name": "stdout"
        },
        {
          "output_type": "stream",
          "text": [
            "loss=0.12063319981098175 batch_id=468: 100%|██████████| 469/469 [00:13<00:00, 33.56it/s]"
          ],
          "name": "stderr"
        },
        {
          "output_type": "stream",
          "text": [
            "\n",
            "Train set: Average loss: 0.0005, Accuracy: 59550/60000 (99.25%)\n",
            "\n"
          ],
          "name": "stdout"
        },
        {
          "output_type": "stream",
          "text": [
            "\n",
            "  0%|          | 0/469 [00:00<?, ?it/s]"
          ],
          "name": "stderr"
        },
        {
          "output_type": "stream",
          "text": [
            "\n",
            "Test set: Average loss: 0.0274, Accuracy: 9915/10000 (99.15%)\n",
            "\n",
            "Epoch 16\n"
          ],
          "name": "stdout"
        },
        {
          "output_type": "stream",
          "text": [
            "loss=0.04404905065894127 batch_id=468: 100%|██████████| 469/469 [00:14<00:00, 33.05it/s]"
          ],
          "name": "stderr"
        },
        {
          "output_type": "stream",
          "text": [
            "\n",
            "Train set: Average loss: 0.0005, Accuracy: 59569/60000 (99.28%)\n",
            "\n"
          ],
          "name": "stdout"
        },
        {
          "output_type": "stream",
          "text": [
            "\n",
            "  0%|          | 0/469 [00:00<?, ?it/s]"
          ],
          "name": "stderr"
        },
        {
          "output_type": "stream",
          "text": [
            "\n",
            "Test set: Average loss: 0.0294, Accuracy: 9913/10000 (99.13%)\n",
            "\n",
            "Epoch 17\n"
          ],
          "name": "stdout"
        },
        {
          "output_type": "stream",
          "text": [
            "loss=0.06664404273033142 batch_id=468: 100%|██████████| 469/469 [00:14<00:00, 33.11it/s]"
          ],
          "name": "stderr"
        },
        {
          "output_type": "stream",
          "text": [
            "\n",
            "Train set: Average loss: 0.0005, Accuracy: 59563/60000 (99.27%)\n",
            "\n"
          ],
          "name": "stdout"
        },
        {
          "output_type": "stream",
          "text": [
            "\n",
            "  0%|          | 0/469 [00:00<?, ?it/s]"
          ],
          "name": "stderr"
        },
        {
          "output_type": "stream",
          "text": [
            "\n",
            "Test set: Average loss: 0.0322, Accuracy: 9901/10000 (99.01%)\n",
            "\n",
            "Epoch 18\n"
          ],
          "name": "stdout"
        },
        {
          "output_type": "stream",
          "text": [
            "loss=0.03821711242198944 batch_id=468: 100%|██████████| 469/469 [00:13<00:00, 33.96it/s]"
          ],
          "name": "stderr"
        },
        {
          "output_type": "stream",
          "text": [
            "\n",
            "Train set: Average loss: 0.0005, Accuracy: 59595/60000 (99.33%)\n",
            "\n"
          ],
          "name": "stdout"
        },
        {
          "output_type": "stream",
          "text": [
            "\n",
            "  0%|          | 0/469 [00:00<?, ?it/s]"
          ],
          "name": "stderr"
        },
        {
          "output_type": "stream",
          "text": [
            "\n",
            "Test set: Average loss: 0.0274, Accuracy: 9915/10000 (99.15%)\n",
            "\n",
            "Epoch 19\n"
          ],
          "name": "stdout"
        },
        {
          "output_type": "stream",
          "text": [
            "loss=0.04712243005633354 batch_id=468: 100%|██████████| 469/469 [00:13<00:00, 33.69it/s]"
          ],
          "name": "stderr"
        },
        {
          "output_type": "stream",
          "text": [
            "\n",
            "Train set: Average loss: 0.0004, Accuracy: 59590/60000 (99.32%)\n",
            "\n"
          ],
          "name": "stdout"
        },
        {
          "output_type": "stream",
          "text": [
            "\n",
            "  0%|          | 0/469 [00:00<?, ?it/s]"
          ],
          "name": "stderr"
        },
        {
          "output_type": "stream",
          "text": [
            "\n",
            "Test set: Average loss: 0.0280, Accuracy: 9907/10000 (99.07%)\n",
            "\n",
            "Epoch 20\n"
          ],
          "name": "stdout"
        },
        {
          "output_type": "stream",
          "text": [
            "loss=0.06936594843864441 batch_id=468: 100%|██████████| 469/469 [00:13<00:00, 34.02it/s]"
          ],
          "name": "stderr"
        },
        {
          "output_type": "stream",
          "text": [
            "\n",
            "Train set: Average loss: 0.0004, Accuracy: 59602/60000 (99.34%)\n",
            "\n"
          ],
          "name": "stdout"
        },
        {
          "output_type": "stream",
          "text": [
            "\n",
            "  0%|          | 0/469 [00:00<?, ?it/s]"
          ],
          "name": "stderr"
        },
        {
          "output_type": "stream",
          "text": [
            "\n",
            "Test set: Average loss: 0.0293, Accuracy: 9910/10000 (99.10%)\n",
            "\n",
            "Epoch 21\n"
          ],
          "name": "stdout"
        },
        {
          "output_type": "stream",
          "text": [
            "loss=0.08423250913619995 batch_id=468: 100%|██████████| 469/469 [00:14<00:00, 33.12it/s]"
          ],
          "name": "stderr"
        },
        {
          "output_type": "stream",
          "text": [
            "\n",
            "Train set: Average loss: 0.0004, Accuracy: 59610/60000 (99.35%)\n",
            "\n"
          ],
          "name": "stdout"
        },
        {
          "output_type": "stream",
          "text": [
            "\n",
            "  0%|          | 0/469 [00:00<?, ?it/s]"
          ],
          "name": "stderr"
        },
        {
          "output_type": "stream",
          "text": [
            "\n",
            "Test set: Average loss: 0.0305, Accuracy: 9909/10000 (99.09%)\n",
            "\n",
            "Epoch 22\n"
          ],
          "name": "stdout"
        },
        {
          "output_type": "stream",
          "text": [
            "loss=0.0751149132847786 batch_id=468: 100%|██████████| 469/469 [00:14<00:00, 33.38it/s]"
          ],
          "name": "stderr"
        },
        {
          "output_type": "stream",
          "text": [
            "\n",
            "Train set: Average loss: 0.0004, Accuracy: 59574/60000 (99.29%)\n",
            "\n"
          ],
          "name": "stdout"
        },
        {
          "output_type": "stream",
          "text": [
            "\n",
            "  0%|          | 0/469 [00:00<?, ?it/s]"
          ],
          "name": "stderr"
        },
        {
          "output_type": "stream",
          "text": [
            "\n",
            "Test set: Average loss: 0.0312, Accuracy: 9901/10000 (99.01%)\n",
            "\n",
            "Epoch 23\n"
          ],
          "name": "stdout"
        },
        {
          "output_type": "stream",
          "text": [
            "loss=0.062049686908721924 batch_id=468: 100%|██████████| 469/469 [00:13<00:00, 33.78it/s]"
          ],
          "name": "stderr"
        },
        {
          "output_type": "stream",
          "text": [
            "\n",
            "Train set: Average loss: 0.0004, Accuracy: 59645/60000 (99.41%)\n",
            "\n"
          ],
          "name": "stdout"
        },
        {
          "output_type": "stream",
          "text": [
            "\n",
            "  0%|          | 0/469 [00:00<?, ?it/s]"
          ],
          "name": "stderr"
        },
        {
          "output_type": "stream",
          "text": [
            "\n",
            "Test set: Average loss: 0.0339, Accuracy: 9906/10000 (99.06%)\n",
            "\n",
            "Epoch 24\n"
          ],
          "name": "stdout"
        },
        {
          "output_type": "stream",
          "text": [
            "loss=0.04665504768490791 batch_id=468: 100%|██████████| 469/469 [00:13<00:00, 33.90it/s]"
          ],
          "name": "stderr"
        },
        {
          "output_type": "stream",
          "text": [
            "\n",
            "Train set: Average loss: 0.0004, Accuracy: 59596/60000 (99.33%)\n",
            "\n"
          ],
          "name": "stdout"
        },
        {
          "output_type": "stream",
          "text": [
            "\n",
            "  0%|          | 0/469 [00:00<?, ?it/s]"
          ],
          "name": "stderr"
        },
        {
          "output_type": "stream",
          "text": [
            "\n",
            "Test set: Average loss: 0.0346, Accuracy: 9897/10000 (98.97%)\n",
            "\n",
            "Epoch 25\n"
          ],
          "name": "stdout"
        },
        {
          "output_type": "stream",
          "text": [
            "loss=0.04023805633187294 batch_id=468: 100%|██████████| 469/469 [00:13<00:00, 33.83it/s]"
          ],
          "name": "stderr"
        },
        {
          "output_type": "stream",
          "text": [
            "\n",
            "Train set: Average loss: 0.0004, Accuracy: 59596/60000 (99.33%)\n",
            "\n"
          ],
          "name": "stdout"
        },
        {
          "output_type": "stream",
          "text": [
            "\n"
          ],
          "name": "stderr"
        },
        {
          "output_type": "stream",
          "text": [
            "\n",
            "Test set: Average loss: 0.0282, Accuracy: 9915/10000 (99.15%)\n",
            "\n"
          ],
          "name": "stdout"
        },
        {
          "output_type": "display_data",
          "data": {
            "image/png": "[encoded data removed]",
            "text/plain": [
              "<Figure size 720x720 with 20 Axes>"
            ]
          },
          "metadata": {
            "tags": [],
            "needs_background": "light"
          }
        }
      ]
    },
    {
      "cell_type": "code",
      "metadata": {
        "id": "q1dGQaJK5KD-",
        "colab": {
          "base_uri": "https://localhost:8080/",
          "height": 624
        },
        "outputId": "10dde0bb-4bfa-494a-a674-0cde339619fb"
      },
      "source": [
        "import numpy as np\n",
        "import matplotlib.pyplot as plt\n",
        "\n",
        "plt.rcParams['figure.figsize'] = [15, 10]\n",
        "\n",
        "plt.subplot(2,2, 1)\n",
        "plt.plot(bn_l1_l2_output[2])\n",
        "plt.plot(ln_l2_output[2])\n",
        "plt.plot(gn_l1_output[2])\n",
        "plt.legend([\"BatchNorm Model + L1 + L2\", \"LayerNorm Model + L2\", \"GroupNorm Model + L1\"])\n",
        "plt.title(\"Train Loss\")\n",
        "\n",
        "plt.subplot(2,2,2)\n",
        "plt.plot(bn_l1_l2_output[3])\n",
        "plt.plot(ln_l2_output[3])\n",
        "plt.plot(gn_l1_output[3])\n",
        "plt.legend([\"BatchNorm Model + L1 + L2\", \"LayerNorm Model + L2\", \"GroupNorm Model + L1\"])\n",
        "plt.title(\"Test Loss\")\n",
        "\n",
        "plt.subplot(2,2,3)\n",
        "plt.plot(np.array(bn_l1_l2_output[0]))\n",
        "plt.plot(np.array(ln_l2_output[0]))\n",
        "plt.plot(np.array(gn_l1_output[0]))\n",
        "plt.legend([\"BatchNorm Model + L1 + L2\", \"LayerNorm Model + L2\", \"GroupNorm Model + L1\"])\n",
        "plt.title(\"Train Accuracy\")\n",
        "\n",
        "plt.subplot(2,2,4)\n",
        "plt.plot(np.array(bn_l1_l2_output[1]))\n",
        "plt.plot(np.array(ln_l2_output[1]))\n",
        "plt.plot(np.array(gn_l1_output[1]))\n",
        "plt.legend([\"BatchNorm Model + L1 + L2\", \"LayerNorm Model + L2\", \"GroupNorm Model + L1\"])\n",
        "plt.title(\"Test Accuracy\")\n"
      ],
      "execution_count": 19,
      "outputs": [
        {
          "output_type": "execute_result",
          "data": {
            "text/plain": [
              "Text(0.5, 1.0, 'Test Accuracy')"
            ]
          },
          "metadata": {
            "tags": []
          },
          "execution_count": 19
        },
        {
          "output_type": "display_data",
          "data": {
            "image/png": "[encoded data removed]",
            "text/plain": [
              "<Figure size 1080x720 with 4 Axes>"
            ]
          },
          "metadata": {
            "tags": [],
            "needs_background": "light"
          }
        }
      ]
    }
  ]
}