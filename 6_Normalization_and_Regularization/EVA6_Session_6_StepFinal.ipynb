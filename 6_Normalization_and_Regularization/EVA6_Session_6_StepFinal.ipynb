{
  "nbformat": 4,
  "nbformat_minor": 0,
  "metadata": {
    "colab": {
      "name": "EVA6 - Session 6-StepFinal.ipynb",
      "provenance": [],
      "collapsed_sections": []
    },
    "kernelspec": {
      "name": "python3",
      "display_name": "Python 3"
    },
    "accelerator": "GPU"
  },
  "cells": [
    {
      "cell_type": "code",
      "metadata": {
        "id": "0m2JWFliFfKT",
        "colab": {
          "base_uri": "https://localhost:8080/"
        },
        "outputId": "de37e18a-8828-4333-ab8c-c13e143c5933"
      },
      "source": [
        "from __future__ import print_function\n",
        "import torch\n",
        "import torch.optim as optim\n",
        "\n",
        "!pip install torchsummary\n",
        "from torchsummary import summary\n",
        "\n",
        "from eva.model import Net\n",
        "from eva.train import train\n",
        "from eva.test import test\n",
        "from eva.dataloader import getMnistDataLoader\n",
        "from eva.eval import fit\n"
      ],
      "execution_count": 1,
      "outputs": [
        {
          "output_type": "stream",
          "text": [
            "Requirement already satisfied: torchsummary in /usr/local/lib/python3.7/dist-packages (1.5.1)\n"
          ],
          "name": "stdout"
        }
      ]
    },
    {
      "cell_type": "code",
      "metadata": {
        "id": "xdydjYTZFyi3"
      },
      "source": [
        "use_cuda = torch.cuda.is_available()\n",
        "device = torch.device(\"cuda\" if use_cuda else \"cpu\")"
      ],
      "execution_count": 2,
      "outputs": []
    },
    {
      "cell_type": "code",
      "metadata": {
        "id": "DqTWLaM5GHgH"
      },
      "source": [
        "torch.manual_seed(1)\n",
        "batch_size = 128\n",
        "kwargs = {'num_workers': 1, 'pin_memory': True} if use_cuda else {}\n",
        "\n",
        "train_loader, test_loader = getMnistDataLoader(batch_size,**kwargs)"
      ],
      "execution_count": 3,
      "outputs": []
    },
    {
      "cell_type": "code",
      "metadata": {
        "colab": {
          "base_uri": "https://localhost:8080/"
        },
        "id": "oO4uNTqT8o_k",
        "outputId": "bb67f84b-08d4-435c-ddf1-36dfc6a3bf87"
      },
      "source": [
        "kwargs = {}\n",
        "\n",
        "vanilla_model = Net(**kwargs).to(device)\n",
        "summary(vanilla_model, input_size=(1, 28, 28))"
      ],
      "execution_count": 4,
      "outputs": [
        {
          "output_type": "stream",
          "text": [
            "----------------------------------------------------------------\n",
            "        Layer (type)               Output Shape         Param #\n",
            "================================================================\n",
            "            Conv2d-1           [-1, 10, 26, 26]              90\n",
            "              ReLU-2           [-1, 10, 26, 26]               0\n",
            "            Conv2d-3           [-1, 10, 24, 24]             900\n",
            "              ReLU-4           [-1, 10, 24, 24]               0\n",
            "            Conv2d-5           [-1, 10, 22, 22]             900\n",
            "              ReLU-6           [-1, 10, 22, 22]               0\n",
            "         AvgPool2d-7           [-1, 10, 11, 11]               0\n",
            "            Conv2d-8             [-1, 10, 9, 9]             900\n",
            "              ReLU-9             [-1, 10, 9, 9]               0\n",
            "           Conv2d-10             [-1, 10, 7, 7]             900\n",
            "             ReLU-11             [-1, 10, 7, 7]               0\n",
            "        AvgPool2d-12             [-1, 10, 3, 3]               0\n",
            "           Linear-13                   [-1, 10]             910\n",
            "================================================================\n",
            "Total params: 4,600\n",
            "Trainable params: 4,600\n",
            "Non-trainable params: 0\n",
            "----------------------------------------------------------------\n",
            "Input size (MB): 0.00\n",
            "Forward/backward pass size (MB): 0.29\n",
            "Params size (MB): 0.02\n",
            "Estimated Total Size (MB): 0.32\n",
            "----------------------------------------------------------------\n"
          ],
          "name": "stdout"
        }
      ]
    },
    {
      "cell_type": "code",
      "metadata": {
        "colab": {
          "base_uri": "https://localhost:8080/"
        },
        "id": "Ga68baDhR3wC",
        "outputId": "d26cff2a-efee-45b8-99dd-a7747d9f9ebd"
      },
      "source": [
        "kwargs = {\"normalization\" : \"BN\"}\n",
        "\n",
        "bn_model = Net(**kwargs).to(device)\n",
        "summary(bn_model, input_size=(1, 28, 28))"
      ],
      "execution_count": 5,
      "outputs": [
        {
          "output_type": "stream",
          "text": [
            "----------------------------------------------------------------\n",
            "        Layer (type)               Output Shape         Param #\n",
            "================================================================\n",
            "            Conv2d-1           [-1, 10, 26, 26]              90\n",
            "              ReLU-2           [-1, 10, 26, 26]               0\n",
            "       BatchNorm2d-3           [-1, 10, 26, 26]              20\n",
            "            Conv2d-4           [-1, 10, 24, 24]             900\n",
            "              ReLU-5           [-1, 10, 24, 24]               0\n",
            "       BatchNorm2d-6           [-1, 10, 24, 24]              20\n",
            "            Conv2d-7           [-1, 10, 22, 22]             900\n",
            "              ReLU-8           [-1, 10, 22, 22]               0\n",
            "       BatchNorm2d-9           [-1, 10, 22, 22]              20\n",
            "        AvgPool2d-10           [-1, 10, 11, 11]               0\n",
            "           Conv2d-11             [-1, 10, 9, 9]             900\n",
            "             ReLU-12             [-1, 10, 9, 9]               0\n",
            "      BatchNorm2d-13             [-1, 10, 9, 9]              20\n",
            "           Conv2d-14             [-1, 10, 7, 7]             900\n",
            "             ReLU-15             [-1, 10, 7, 7]               0\n",
            "      BatchNorm2d-16             [-1, 10, 7, 7]              20\n",
            "        AvgPool2d-17             [-1, 10, 3, 3]               0\n",
            "           Linear-18                   [-1, 10]             910\n",
            "================================================================\n",
            "Total params: 4,700\n",
            "Trainable params: 4,700\n",
            "Non-trainable params: 0\n",
            "----------------------------------------------------------------\n",
            "Input size (MB): 0.00\n",
            "Forward/backward pass size (MB): 0.44\n",
            "Params size (MB): 0.02\n",
            "Estimated Total Size (MB): 0.46\n",
            "----------------------------------------------------------------\n"
          ],
          "name": "stdout"
        }
      ]
    },
    {
      "cell_type": "code",
      "metadata": {
        "colab": {
          "base_uri": "https://localhost:8080/"
        },
        "id": "lZMgzVrCS-Xu",
        "outputId": "c7c7166a-d775-4e76-9567-6b1b35146f9e"
      },
      "source": [
        "kwargs = {\"normalization\" : \"LN\"}\n",
        "\n",
        "ln_model = Net(**kwargs).to(device)\n",
        "summary(ln_model, input_size=(1, 28, 28))"
      ],
      "execution_count": 6,
      "outputs": [
        {
          "output_type": "stream",
          "text": [
            "----------------------------------------------------------------\n",
            "        Layer (type)               Output Shape         Param #\n",
            "================================================================\n",
            "            Conv2d-1           [-1, 10, 26, 26]              90\n",
            "              ReLU-2           [-1, 10, 26, 26]               0\n",
            "         GroupNorm-3           [-1, 10, 26, 26]              20\n",
            "            Conv2d-4           [-1, 10, 24, 24]             900\n",
            "              ReLU-5           [-1, 10, 24, 24]               0\n",
            "         GroupNorm-6           [-1, 10, 24, 24]              20\n",
            "            Conv2d-7           [-1, 10, 22, 22]             900\n",
            "              ReLU-8           [-1, 10, 22, 22]               0\n",
            "         GroupNorm-9           [-1, 10, 22, 22]              20\n",
            "        AvgPool2d-10           [-1, 10, 11, 11]               0\n",
            "           Conv2d-11             [-1, 10, 9, 9]             900\n",
            "             ReLU-12             [-1, 10, 9, 9]               0\n",
            "        GroupNorm-13             [-1, 10, 9, 9]              20\n",
            "           Conv2d-14             [-1, 10, 7, 7]             900\n",
            "             ReLU-15             [-1, 10, 7, 7]               0\n",
            "        GroupNorm-16             [-1, 10, 7, 7]              20\n",
            "        AvgPool2d-17             [-1, 10, 3, 3]               0\n",
            "           Linear-18                   [-1, 10]             910\n",
            "================================================================\n",
            "Total params: 4,700\n",
            "Trainable params: 4,700\n",
            "Non-trainable params: 0\n",
            "----------------------------------------------------------------\n",
            "Input size (MB): 0.00\n",
            "Forward/backward pass size (MB): 0.44\n",
            "Params size (MB): 0.02\n",
            "Estimated Total Size (MB): 0.46\n",
            "----------------------------------------------------------------\n"
          ],
          "name": "stdout"
        }
      ]
    },
    {
      "cell_type": "code",
      "metadata": {
        "colab": {
          "base_uri": "https://localhost:8080/"
        },
        "id": "PG9VOhTKS-jX",
        "outputId": "1db85d16-6b6e-467d-ab92-13f935c6c548"
      },
      "source": [
        "kwargs = {\"normalization\" : \"GN\"}\n",
        "\n",
        "gn_model = Net(**kwargs).to(device)\n",
        "summary(gn_model, input_size=(1, 28, 28))"
      ],
      "execution_count": 7,
      "outputs": [
        {
          "output_type": "stream",
          "text": [
            "----------------------------------------------------------------\n",
            "        Layer (type)               Output Shape         Param #\n",
            "================================================================\n",
            "            Conv2d-1           [-1, 10, 26, 26]              90\n",
            "              ReLU-2           [-1, 10, 26, 26]               0\n",
            "         GroupNorm-3           [-1, 10, 26, 26]              20\n",
            "            Conv2d-4           [-1, 10, 24, 24]             900\n",
            "              ReLU-5           [-1, 10, 24, 24]               0\n",
            "         GroupNorm-6           [-1, 10, 24, 24]              20\n",
            "            Conv2d-7           [-1, 10, 22, 22]             900\n",
            "              ReLU-8           [-1, 10, 22, 22]               0\n",
            "         GroupNorm-9           [-1, 10, 22, 22]              20\n",
            "        AvgPool2d-10           [-1, 10, 11, 11]               0\n",
            "           Conv2d-11             [-1, 10, 9, 9]             900\n",
            "             ReLU-12             [-1, 10, 9, 9]               0\n",
            "        GroupNorm-13             [-1, 10, 9, 9]              20\n",
            "           Conv2d-14             [-1, 10, 7, 7]             900\n",
            "             ReLU-15             [-1, 10, 7, 7]               0\n",
            "        GroupNorm-16             [-1, 10, 7, 7]              20\n",
            "        AvgPool2d-17             [-1, 10, 3, 3]               0\n",
            "           Linear-18                   [-1, 10]             910\n",
            "================================================================\n",
            "Total params: 4,700\n",
            "Trainable params: 4,700\n",
            "Non-trainable params: 0\n",
            "----------------------------------------------------------------\n",
            "Input size (MB): 0.00\n",
            "Forward/backward pass size (MB): 0.44\n",
            "Params size (MB): 0.02\n",
            "Estimated Total Size (MB): 0.46\n",
            "----------------------------------------------------------------\n"
          ],
          "name": "stdout"
        }
      ]
    },
    {
      "cell_type": "code",
      "metadata": {
        "id": "MMjKwtOhYzIC"
      },
      "source": [
        "epochs = 2\n",
        "lr = 0.01\n",
        "momentum=0.9\n",
        "optimizer=optim.SGD\n",
        "weight_decay = 0\n",
        "lambda_l1 = None"
      ],
      "execution_count": 8,
      "outputs": []
    },
    {
      "cell_type": "code",
      "metadata": {
        "colab": {
          "base_uri": "https://localhost:8080/"
        },
        "id": "2k4_vUZrUkeW",
        "outputId": "bf1707f6-fc21-405b-e7eb-dbd699075d78"
      },
      "source": [
        "kwargs = {\n",
        "    'device':device,\n",
        "    'epochs':epochs,\n",
        "    'train':train,\n",
        "    'test':test,\n",
        "    'train_loader':train_loader,\n",
        "    'test_loader':test_loader,\n",
        "    'optimizer':optimizer,\n",
        "    'learning_rate':lr,\n",
        "    'momentum':momentum,\n",
        "    'weight_decay': weight_decay,\n",
        "    'lambda_l1': lambda_l1\n",
        "            }\n",
        "\n",
        "print(\"Vanilla Model\")\n",
        "vanilla_output = fit(vanilla_model, **kwargs)\n",
        "\n",
        "torch.manual_seed(1)\n",
        "\n",
        "print(\"BatchNorm Model\")\n",
        "bn_output = fit(bn_model,  **kwargs)\n",
        "\n",
        "torch.manual_seed(1)\n",
        "\n",
        "print(\"LayerNorm Model\")\n",
        "ln_output = fit(ln_model,  **kwargs)\n",
        "\n",
        "torch.manual_seed(1)\n",
        "\n",
        "print(\"GroupNorm Model\")\n",
        "gn_output = fit(gn_model,  **kwargs)\n",
        "\n",
        "torch.manual_seed(1)\n",
        "\n",
        "print(\"BatchNorm Model + L1 + L2\")\n",
        "kwargs['weight_decay'] = 1e-5\n",
        "kwargs['lambda_l1'] = 0.001\n",
        "bn_l1_l2_output = fit(bn_model,  **kwargs)\n",
        "\n",
        "torch.manual_seed(1)\n",
        "\n",
        "print(\"LayerNorm Model + L2\")\n",
        "kwargs['weight_decay'] = 1e-5\n",
        "kwargs['lambda_l1'] = None\n",
        "ln_l2_output = fit(ln_model,  **kwargs)\n",
        "\n",
        "torch.manual_seed(1)\n",
        "\n",
        "print(\"GroupNorm Model + L1\")\n",
        "kwargs['weight_decay'] = 0\n",
        "kwargs['lambda_l1'] = 0.001\n",
        "gn_l1_output = fit(gn_model,  **kwargs)\n"
      ],
      "execution_count": 9,
      "outputs": [
        {
          "output_type": "stream",
          "text": [
            "\r  0%|          | 0/469 [00:00<?, ?it/s]"
          ],
          "name": "stderr"
        },
        {
          "output_type": "stream",
          "text": [
            "Vanilla Model\n",
            "Epoch 1\n"
          ],
          "name": "stdout"
        },
        {
          "output_type": "stream",
          "text": [
            "loss=0.12847991287708282 batch_id=468: 100%|██████████| 469/469 [00:10<00:00, 44.69it/s]"
          ],
          "name": "stderr"
        },
        {
          "output_type": "stream",
          "text": [
            "\n",
            "Train set: Average loss: 0.0089, Accuracy: 34947/60000 (58.24%)\n",
            "\n"
          ],
          "name": "stdout"
        },
        {
          "output_type": "stream",
          "text": [
            "\n",
            "  0%|          | 0/469 [00:00<?, ?it/s]"
          ],
          "name": "stderr"
        },
        {
          "output_type": "stream",
          "text": [
            "\n",
            "Test set: Average loss: 0.2095, Accuracy: 9334/10000 (93.34%)\n",
            "\n",
            "Epoch 2\n"
          ],
          "name": "stdout"
        },
        {
          "output_type": "stream",
          "text": [
            "loss=0.18545116484165192 batch_id=468: 100%|██████████| 469/469 [00:10<00:00, 43.91it/s]"
          ],
          "name": "stderr"
        },
        {
          "output_type": "stream",
          "text": [
            "\n",
            "Train set: Average loss: 0.0013, Accuracy: 56915/60000 (94.86%)\n",
            "\n"
          ],
          "name": "stdout"
        },
        {
          "output_type": "stream",
          "text": [
            "\n",
            "  0%|          | 0/469 [00:00<?, ?it/s]"
          ],
          "name": "stderr"
        },
        {
          "output_type": "stream",
          "text": [
            "\n",
            "Test set: Average loss: 0.1105, Accuracy: 9668/10000 (96.68%)\n",
            "\n",
            "BatchNorm Model\n",
            "Epoch 1\n"
          ],
          "name": "stdout"
        },
        {
          "output_type": "stream",
          "text": [
            "loss=0.10892511159181595 batch_id=468: 100%|██████████| 469/469 [00:11<00:00, 42.54it/s]"
          ],
          "name": "stderr"
        },
        {
          "output_type": "stream",
          "text": [
            "\n",
            "Train set: Average loss: 0.0018, Accuracy: 56234/60000 (93.72%)\n",
            "\n"
          ],
          "name": "stdout"
        },
        {
          "output_type": "stream",
          "text": [
            "\n",
            "  0%|          | 0/469 [00:00<?, ?it/s]"
          ],
          "name": "stderr"
        },
        {
          "output_type": "stream",
          "text": [
            "\n",
            "Test set: Average loss: 0.0612, Accuracy: 9818/10000 (98.18%)\n",
            "\n",
            "Epoch 2\n"
          ],
          "name": "stdout"
        },
        {
          "output_type": "stream",
          "text": [
            "loss=0.015855086967349052 batch_id=468: 100%|██████████| 469/469 [00:11<00:00, 42.33it/s]"
          ],
          "name": "stderr"
        },
        {
          "output_type": "stream",
          "text": [
            "\n",
            "Train set: Average loss: 0.0005, Accuracy: 58958/60000 (98.26%)\n",
            "\n"
          ],
          "name": "stdout"
        },
        {
          "output_type": "stream",
          "text": [
            "\n",
            "  0%|          | 0/469 [00:00<?, ?it/s]"
          ],
          "name": "stderr"
        },
        {
          "output_type": "stream",
          "text": [
            "\n",
            "Test set: Average loss: 0.0452, Accuracy: 9869/10000 (98.69%)\n",
            "\n",
            "LayerNorm Model\n",
            "Epoch 1\n"
          ],
          "name": "stdout"
        },
        {
          "output_type": "stream",
          "text": [
            "loss=0.12319368124008179 batch_id=468: 100%|██████████| 469/469 [00:11<00:00, 41.65it/s]"
          ],
          "name": "stderr"
        },
        {
          "output_type": "stream",
          "text": [
            "\n",
            "Train set: Average loss: 0.0019, Accuracy: 55778/60000 (92.96%)\n",
            "\n"
          ],
          "name": "stdout"
        },
        {
          "output_type": "stream",
          "text": [
            "\n",
            "  0%|          | 0/469 [00:00<?, ?it/s]"
          ],
          "name": "stderr"
        },
        {
          "output_type": "stream",
          "text": [
            "\n",
            "Test set: Average loss: 0.0690, Accuracy: 9791/10000 (97.91%)\n",
            "\n",
            "Epoch 2\n"
          ],
          "name": "stdout"
        },
        {
          "output_type": "stream",
          "text": [
            "loss=0.014586624689400196 batch_id=468: 100%|██████████| 469/469 [00:10<00:00, 43.18it/s]"
          ],
          "name": "stderr"
        },
        {
          "output_type": "stream",
          "text": [
            "\n",
            "Train set: Average loss: 0.0005, Accuracy: 58799/60000 (98.00%)\n",
            "\n"
          ],
          "name": "stdout"
        },
        {
          "output_type": "stream",
          "text": [
            "\n",
            "  0%|          | 0/469 [00:00<?, ?it/s]"
          ],
          "name": "stderr"
        },
        {
          "output_type": "stream",
          "text": [
            "\n",
            "Test set: Average loss: 0.0447, Accuracy: 9864/10000 (98.64%)\n",
            "\n",
            "GroupNorm Model\n",
            "Epoch 1\n"
          ],
          "name": "stdout"
        },
        {
          "output_type": "stream",
          "text": [
            "loss=0.16030772030353546 batch_id=468: 100%|██████████| 469/469 [00:10<00:00, 43.29it/s]"
          ],
          "name": "stderr"
        },
        {
          "output_type": "stream",
          "text": [
            "\n",
            "Train set: Average loss: 0.0018, Accuracy: 56245/60000 (93.74%)\n",
            "\n"
          ],
          "name": "stdout"
        },
        {
          "output_type": "stream",
          "text": [
            "\n",
            "  0%|          | 0/469 [00:00<?, ?it/s]"
          ],
          "name": "stderr"
        },
        {
          "output_type": "stream",
          "text": [
            "\n",
            "Test set: Average loss: 0.0796, Accuracy: 9751/10000 (97.51%)\n",
            "\n",
            "Epoch 2\n"
          ],
          "name": "stdout"
        },
        {
          "output_type": "stream",
          "text": [
            "loss=0.008139369077980518 batch_id=468: 100%|██████████| 469/469 [00:11<00:00, 42.07it/s]"
          ],
          "name": "stderr"
        },
        {
          "output_type": "stream",
          "text": [
            "\n",
            "Train set: Average loss: 0.0005, Accuracy: 58848/60000 (98.08%)\n",
            "\n"
          ],
          "name": "stdout"
        },
        {
          "output_type": "stream",
          "text": [
            "\n",
            "  0%|          | 0/469 [00:00<?, ?it/s]"
          ],
          "name": "stderr"
        },
        {
          "output_type": "stream",
          "text": [
            "\n",
            "Test set: Average loss: 0.0489, Accuracy: 9851/10000 (98.51%)\n",
            "\n",
            "BatchNorm Model + L1 + L2\n",
            "Epoch 1\n"
          ],
          "name": "stdout"
        },
        {
          "output_type": "stream",
          "text": [
            "loss=0.3526088297367096 batch_id=468: 100%|██████████| 469/469 [00:11<00:00, 40.52it/s]"
          ],
          "name": "stderr"
        },
        {
          "output_type": "stream",
          "text": [
            "\n",
            "Train set: Average loss: 0.0030, Accuracy: 59094/60000 (98.49%)\n",
            "\n"
          ],
          "name": "stdout"
        },
        {
          "output_type": "stream",
          "text": [
            "\n",
            "  0%|          | 0/469 [00:00<?, ?it/s]"
          ],
          "name": "stderr"
        },
        {
          "output_type": "stream",
          "text": [
            "\n",
            "Test set: Average loss: 0.0655, Accuracy: 9806/10000 (98.06%)\n",
            "\n",
            "Epoch 2\n"
          ],
          "name": "stdout"
        },
        {
          "output_type": "stream",
          "text": [
            "loss=0.23470309376716614 batch_id=468: 100%|██████████| 469/469 [00:11<00:00, 39.82it/s]"
          ],
          "name": "stderr"
        },
        {
          "output_type": "stream",
          "text": [
            "\n",
            "Train set: Average loss: 0.0023, Accuracy: 58992/60000 (98.32%)\n",
            "\n"
          ],
          "name": "stdout"
        },
        {
          "output_type": "stream",
          "text": [
            "\n",
            "  0%|          | 0/469 [00:00<?, ?it/s]"
          ],
          "name": "stderr"
        },
        {
          "output_type": "stream",
          "text": [
            "\n",
            "Test set: Average loss: 0.0631, Accuracy: 9806/10000 (98.06%)\n",
            "\n",
            "LayerNorm Model + L2\n",
            "Epoch 1\n"
          ],
          "name": "stdout"
        },
        {
          "output_type": "stream",
          "text": [
            "loss=0.06715451925992966 batch_id=468: 100%|██████████| 469/469 [00:11<00:00, 41.43it/s]"
          ],
          "name": "stderr"
        },
        {
          "output_type": "stream",
          "text": [
            "\n",
            "Train set: Average loss: 0.0004, Accuracy: 59085/60000 (98.47%)\n",
            "\n"
          ],
          "name": "stdout"
        },
        {
          "output_type": "stream",
          "text": [
            "\n",
            "  0%|          | 0/469 [00:00<?, ?it/s]"
          ],
          "name": "stderr"
        },
        {
          "output_type": "stream",
          "text": [
            "\n",
            "Test set: Average loss: 0.0426, Accuracy: 9869/10000 (98.69%)\n",
            "\n",
            "Epoch 2\n"
          ],
          "name": "stdout"
        },
        {
          "output_type": "stream",
          "text": [
            "loss=0.007055711466819048 batch_id=468: 100%|██████████| 469/469 [00:11<00:00, 42.22it/s]"
          ],
          "name": "stderr"
        },
        {
          "output_type": "stream",
          "text": [
            "\n",
            "Train set: Average loss: 0.0003, Accuracy: 59219/60000 (98.70%)\n",
            "\n"
          ],
          "name": "stdout"
        },
        {
          "output_type": "stream",
          "text": [
            "\n",
            "  0%|          | 0/469 [00:00<?, ?it/s]"
          ],
          "name": "stderr"
        },
        {
          "output_type": "stream",
          "text": [
            "\n",
            "Test set: Average loss: 0.0346, Accuracy: 9887/10000 (98.87%)\n",
            "\n",
            "GroupNorm Model + L1\n",
            "Epoch 1\n"
          ],
          "name": "stdout"
        },
        {
          "output_type": "stream",
          "text": [
            "loss=0.3797954022884369 batch_id=468: 100%|██████████| 469/469 [00:11<00:00, 39.37it/s]"
          ],
          "name": "stderr"
        },
        {
          "output_type": "stream",
          "text": [
            "\n",
            "Train set: Average loss: 0.0031, Accuracy: 58990/60000 (98.32%)\n",
            "\n"
          ],
          "name": "stdout"
        },
        {
          "output_type": "stream",
          "text": [
            "\n",
            "  0%|          | 0/469 [00:00<?, ?it/s]"
          ],
          "name": "stderr"
        },
        {
          "output_type": "stream",
          "text": [
            "\n",
            "Test set: Average loss: 0.0621, Accuracy: 9815/10000 (98.15%)\n",
            "\n",
            "Epoch 2\n"
          ],
          "name": "stdout"
        },
        {
          "output_type": "stream",
          "text": [
            "loss=0.24373072385787964 batch_id=468: 100%|██████████| 469/469 [00:11<00:00, 39.92it/s]"
          ],
          "name": "stderr"
        },
        {
          "output_type": "stream",
          "text": [
            "\n",
            "Train set: Average loss: 0.0023, Accuracy: 58885/60000 (98.14%)\n",
            "\n"
          ],
          "name": "stdout"
        },
        {
          "output_type": "stream",
          "text": [
            "\n"
          ],
          "name": "stderr"
        },
        {
          "output_type": "stream",
          "text": [
            "\n",
            "Test set: Average loss: 0.0748, Accuracy: 9775/10000 (97.75%)\n",
            "\n"
          ],
          "name": "stdout"
        }
      ]
    },
    {
      "cell_type": "code",
      "metadata": {
        "id": "q1dGQaJK5KD-"
      },
      "source": [
        "#TO do print 4 metrics\n"
      ],
      "execution_count": 10,
      "outputs": []
    },
    {
      "cell_type": "code",
      "metadata": {
        "id": "cZGH_s6bZp88"
      },
      "source": [
        "#To print misclassified images/wrong predictions(20)"
      ],
      "execution_count": 11,
      "outputs": []
    }
  ]
}